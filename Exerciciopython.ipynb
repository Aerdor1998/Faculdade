{
  "nbformat": 4,
  "nbformat_minor": 0,
  "metadata": {
    "colab": {
      "provenance": [],
      "authorship_tag": "ABX9TyPCwBYlb95wPvJvS318ORG9",
      "include_colab_link": true
    },
    "kernelspec": {
      "name": "python3",
      "display_name": "Python 3"
    },
    "language_info": {
      "name": "python"
    }
  },
  "cells": [
    {
      "cell_type": "markdown",
      "metadata": {
        "id": "view-in-github",
        "colab_type": "text"
      },
      "source": [
        "<a href=\"https://colab.research.google.com/github/Aerdor1998/Faculdade/blob/main/Exerciciopython.ipynb\" target=\"_parent\"><img src=\"https://colab.research.google.com/assets/colab-badge.svg\" alt=\"Open In Colab\"/></a>"
      ]
    },
    {
      "cell_type": "code",
      "execution_count": null,
      "metadata": {
        "colab": {
          "base_uri": "https://localhost:8080/"
        },
        "id": "xNhtK6Rdn0c_",
        "outputId": "1ad04b47-cdc5-4269-beb2-ce70a17666c6"
      },
      "outputs": [
        {
          "output_type": "stream",
          "name": "stdout",
          "text": [
            "\n",
            "    0 - SAIR\n",
            "    1 - CADASTRAR UM CONTATO\n",
            "    2 - EXIBIR A TABELA (CONTATOS CADASTRADOS)\n",
            "    3 - PREENCHE REGISTROS\n",
            "    4 - PESQUISA CONTATO\n",
            "    5 - CADASTRAR CONTATO\n",
            "    6 - EDITAR CONTATO\n",
            "    \n"
          ]
        }
      ],
      "source": [
        "import os\n",
        "# ---- preenche mais de um registro\n",
        "def preenche_registros(t: list, reg: dict) -> None:\n",
        "    while True:\n",
        "        x = input(\"Instagram:\")\n",
        "        if x != '.':\n",
        "            reg['instagram'] = x\n",
        "            reg['nome'] = input(\"Nome: \")\n",
        "            reg['celular'] = input(\"Celular: \")\n",
        "            t.append(reg.copy())\n",
        "        else:\n",
        "            break\n",
        "# ---- pesquisa um registro\n",
        "def pesquisa(insta: str, t: list) -> bool:\n",
        "    for i in range(0, len(t), 1):\n",
        "        if t[i]['instagram'] == insta:\n",
        "            exibe_registro(t, i)\n",
        "            return True\n",
        "    return False\n",
        "# ---- preenche um registro\n",
        "def preenche_registro(t: list, reg: dict) -> None:\n",
        "    print(\"PREENCHENDO O REGISTRO\")\n",
        "    reg['instagram'] = input(\"Instagram: \")\n",
        "    reg['nome'] = input(\"Nome: \")\n",
        "    reg['celular'] = input(\"Celular: \")\n",
        "    t.append(reg.copy())\n",
        "# ---- exibe um registro especifico\n",
        "def exibe_registro(t: list, i: int) -> None:\n",
        "    print(f\"\\nREGISTRO.....: {i}\")\n",
        "    print(f\"Instagram: {t[i]['instagram']}\")\n",
        "    print(f\"Nome: {t[i]['nome']}\")\n",
        "    print(f\"celular: {t[i]['celular']}\\n\")\n",
        "# ---- exibir todos os registros da tabela\n",
        "def exibe_tabela(t: list) -> None:\n",
        "    for indice in range(len(t)):\n",
        "        exibe_registro(t, indice)\n",
        "\n",
        "def cadastrar_contato(tabela, contato):\n",
        "    print(\"CADASTRANDO UM CONTATO\")\n",
        "    preenche_registro(tabela, contato)\n",
        "    print(\"Contato cadastrado com sucesso!\")\n",
        "\n",
        "def editar_contato(tabela, insta):\n",
        "    for i in range(len(tabela)):\n",
        "        if tabela[i]['instagram'] == insta:\n",
        "            print(\"EDITANDO o CONTATO\")\n",
        "            novo_instagram = input(\"Novo Instagram:\")\n",
        "            novo_nome = input(\"Novo Nome:\")\n",
        "            novo_celular = input(\"Novo Celular:\")\n",
        "\n",
        "            tabela[i]['instagram'] == novo_instagram\n",
        "            tabela[i]['nome'] == novo_nome\n",
        "            tabela[i]['celular'] == novo_celular\n",
        "            print(\"Contato editado com sucesso!\")\n",
        "            return\n",
        "    print(\"Instagram não cadastrado!\")\n",
        "\n",
        "# ============= PRINCIPAL\n",
        "tabela = list()\n",
        "contato = dict()\n",
        "# contato = {\n",
        "#    'instagram': '',\n",
        "#    'nome' : '',\n",
        "#    'celular' : ''\n",
        "# }\n",
        "while True:\n",
        "    os.system(\"clear\")\n",
        "    print(\"\"\"\n",
        "    0 - SAIR\n",
        "    1 - CADASTRAR UM CONTATO\n",
        "    2 - EXIBIR A TABELA (CONTATOS CADASTRADOS)\n",
        "    3 - PREENCHE REGISTROS\n",
        "    4 - PESQUISA CONTATO\n",
        "    5 - CADASTRAR CONTATO\n",
        "    6 - EDITAR CONTATO\n",
        "    \"\"\")\n",
        "    opcao = int(input(\"Escolha: \"))\n",
        "    match opcao:\n",
        "        case 0:\n",
        "            break\n",
        "        case 1:\n",
        "            preenche_registro(tabela, contato)\n",
        "        case 2:\n",
        "            exibe_tabela(tabela)\n",
        "        case 3:\n",
        "            preenche_registros(tabela,contato)\n",
        "        case 4:\n",
        "            insta = input(\"Instagram: \")\n",
        "            if pesquisa(insta, tabela) == False:\n",
        "                print(\"Intagram não cadastrado!\")\n",
        "        case 5:\n",
        "            cadastrar_contato(tabela, contato)\n",
        "        case 6:\n",
        "            insta = input(\"Instagram do contato que deseja editar:\")\n",
        "            if pesquisa(insta, tabela):\n",
        "                editar_contato(tabela, insta)\n",
        "            else:\n",
        "                print(\"Instagram não cadastrado\")\n",
        "\n",
        "    input(\"\\nDigite algo para continuar...\")[A]"
      ]
    }
  ]
}