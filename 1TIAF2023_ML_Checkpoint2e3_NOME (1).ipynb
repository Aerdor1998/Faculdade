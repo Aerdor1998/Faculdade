{
  "cells": [
    {
      "cell_type": "markdown",
      "metadata": {
        "id": "jj3aDrEZDNCh"
      },
      "source": [
        "FIAP - Tecnólogo de Inteligência Artificial\n",
        "\n",
        "\n",
        "# Machine Learning & Modelling - Checkpoint #2 e Checkpoint #3 \n",
        "\n",
        "Faça _individualmente_ a lista abaixo para praticar análise descritiva, gráficos e regressão linear. Utilize os conceitos vistos em sala, os notebooks disponíveis e consulte documentações de Python na Internet. Em caso de dúvidas, contate o Prof. Michel. \n",
        "\n",
        "**Entrega**: 19/maio/2023, via Teams - IMPORTANTE: renomeie o notebook incluindo seu nome! \n",
        "\n",
        "\n",
        "\n",
        "## Dataset\n",
        "\n",
        "O dataset mapeia características de pessoas cruzando com o valor pago pelo seu seguro de saúde nos EUA. Os dados são compostos pelas seguintes variáveis: \n",
        "\n",
        "- `age` : idade do indivíduo \n",
        "- `sex` : sexo do indivíduo \n",
        "- `bmi` : \"Body mass index\", o IMC (índice de massa corporal)\n",
        "- `children` : número de filhos\n",
        "- `smoker` : fumante ou não?\n",
        "- `region` : região de residência da pessoa\n",
        "- `charges` : tarifa paga pela pessoa\n",
        "\n",
        "Os dados podem ser lidos diretamente a partir desta URL: https://tinyurl.com/42rvaw4p\n",
        "\n",
        "\n",
        "## Atividades \n",
        "\n",
        "A partir da leitura do dataset, realize as seguintes tarefas: \n",
        "\n",
        "### Gerais (CK #2)\n",
        "\n",
        "1. Faça uma análise descritiva geral dos dados, para se familirizar com o dataset \n",
        "\n",
        "### Gráficos (CK #2)\n",
        "\n",
        "Lembrem-se! Todo gráfico precisa ter um título, o nome do Eixo X e do Eixo Y! Estas alterações nos gráficos são **obrigatórias**. Outras alterações de layout são bem-vindas, e podem gerar nota extra ;D\n",
        "\n",
        "2. Faça um histograma com as idades das pessoas\n",
        "3. Faça uma gráfico com a distribuição das pessoas por sexo\n",
        "4. Faça um boxplot de gastos por região. Cada região deve estar em um boxplot distinto \n",
        "5. Faça um gráfico de dispersão (scatter plot) de BMI (eixo X) e Charges (eixo Y). Defina a cor dos pontos pela variável \"sex\"\n",
        "6. Faça um pairplot (da biblioteca seaborn) de todas as variáveis. Defina a cor (parâmetro _hue_ ) em função da variável smoker. Observando especialmente os gráficos da linha ou coluna das tarifas (charges), quais são suas principais conclusões? \n",
        "\n",
        "\n",
        "### Filtros de dataframes (CK #3)\n",
        "\n",
        "7. Faça um dataframe menor selecionamento apenas selecionando as pessoas que pagam acima do valor médio da tarifa. Descreva o perfil destas pessoas em termos de suas variáveis: ou seja, possuem quantos filhos? qual a idade média? são geralmente os homens ou as mulheres? etc. \n",
        "8. Verifique quantas pessoas existem abaixo dos 30 anos E que são fumantes\n",
        "\n",
        "\n",
        "### Regressão linear (CK #3)\n",
        "\n",
        "9. Padronize as features do dataset \n",
        "10. Execute uma regressão linear simples usando todas as features padronizadas (exercício 9) (o label é o valor pago do seguro). Calcule o `R2 score` e interprete o valor desta métrica"
      ]
    },
    {
      "cell_type": "code",
      "execution_count": null,
      "metadata": {
        "id": "enmBJpsIDNCk"
      },
      "outputs": [],
      "source": []
    }
  ],
  "metadata": {
    "kernelspec": {
      "display_name": "Python 3",
      "language": "python",
      "name": "python3"
    },
    "language_info": {
      "codemirror_mode": {
        "name": "ipython",
        "version": 3
      },
      "file_extension": ".py",
      "mimetype": "text/x-python",
      "name": "python",
      "nbconvert_exporter": "python",
      "pygments_lexer": "ipython3",
      "version": "3.7.3"
    },
    "colab": {
      "provenance": []
    }
  },
  "nbformat": 4,
  "nbformat_minor": 0
}