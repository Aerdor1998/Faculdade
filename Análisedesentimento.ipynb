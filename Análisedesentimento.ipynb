{
  "nbformat": 4,
  "nbformat_minor": 0,
  "metadata": {
    "colab": {
      "provenance": [],
      "authorship_tag": "ABX9TyNibHql/lLqEgZ/QDOpgUI1",
      "include_colab_link": true
    },
    "kernelspec": {
      "name": "python3",
      "display_name": "Python 3"
    },
    "language_info": {
      "name": "python"
    }
  },
  "cells": [
    {
      "cell_type": "markdown",
      "metadata": {
        "id": "view-in-github",
        "colab_type": "text"
      },
      "source": [
        "<a href=\"https://colab.research.google.com/github/Aerdor1998/Faculdade/blob/main/An%C3%A1lisedesentimento.ipynb\" target=\"_parent\"><img src=\"https://colab.research.google.com/assets/colab-badge.svg\" alt=\"Open In Colab\"/></a>"
      ]
    },
    {
      "cell_type": "code",
      "execution_count": null,
      "metadata": {
        "colab": {
          "base_uri": "https://localhost:8080/"
        },
        "id": "J-64AiV-6Y-9",
        "outputId": "edabc5e8-da4b-4a0c-a443-446759e1fab8"
      },
      "outputs": [
        {
          "output_type": "stream",
          "name": "stderr",
          "text": [
            "[nltk_data] Downloading package vader_lexicon to /root/nltk_data...\n",
            "[nltk_data]   Package vader_lexicon is already up-to-date!\n",
            "[nltk_data] Downloading package punkt to /root/nltk_data...\n",
            "[nltk_data]   Package punkt is already up-to-date!\n",
            "[nltk_data] Downloading package stopwords to /root/nltk_data...\n",
            "[nltk_data]   Package stopwords is already up-to-date!\n"
          ]
        }
      ],
      "source": [
        "import nltk\n",
        "from nltk.sentiment import SentimentIntensityAnalyzer\n",
        "\n",
        "# Baixe os recursos necessários da NLTK (caso ainda não tenham sido baixados)\n",
        "nltk.download('vader_lexicon')\n",
        "nltk.download('punkt')\n",
        "nltk.download('stopwords')\n",
        "\n",
        "# Criar uma instância do analisador de sentimento\n",
        "analisador_sentimento = SentimentIntensityAnalyzer()\n",
        "\n",
        "def obter_pontuacao_sentimento(frase):\n",
        "    \"\"\"Obtém a pontuação de sentimento da frase.\"\"\"\n",
        "    return analisador_sentimento.polarity_scores(frase)\n",
        "\n",
        "def determinar_sentimento(pontuacao_sentimento):\n",
        "    \"\"\"Determina o sentimento com base na pontuação de sentimento.\"\"\"\n",
        "    compound_score = pontuacao_sentimento['compound']\n",
        "    if compound_score >= 0.05:\n",
        "        return \"Positivo\"\n",
        "    elif compound_score <= -0.05:\n",
        "        return \"Negativo\"\n",
        "    else:\n",
        "        return \"Neutro\"\n",
        "\n",
        "def main():\n",
        "    \"\"\"Função principal para análise de sentimento.\"\"\"\n",
        "    # Solicitar ao usuário que insira uma frase para análise de sentimento\n",
        "    frase = input(\"Digite uma frase: \")\n",
        "\n",
        "    # Obter a pontuação de sentimento da frase\n",
        "    pontuacao_sentimento = obter_pontuacao_sentimento(frase)\n",
        "\n",
        "    # Exibir a pontuação de sentimento\n",
        "    print(\"Pontuação de Sentimento:\", pontuacao_sentimento)\n",
        "\n",
        "    # Determinar o sentimento com base na pontuação\n",
        "    sentimento = determinar_sentimento(pontuacao_sentimento)\n",
        "    print(\"Sentimento:\", sentimento)\n",
        "\n",
        "if __name__ == \"__main__\":\n",
        "    main()\n"
      ]
    }
  ]
}