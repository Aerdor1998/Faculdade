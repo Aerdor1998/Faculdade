{
  "nbformat": 4,
  "nbformat_minor": 0,
  "metadata": {
    "colab": {
      "provenance": [],
      "include_colab_link": true
    },
    "kernelspec": {
      "name": "python3",
      "display_name": "Python 3"
    },
    "language_info": {
      "name": "python"
    }
  },
  "cells": [
    {
      "cell_type": "markdown",
      "metadata": {
        "id": "view-in-github",
        "colab_type": "text"
      },
      "source": [
        "<a href=\"https://colab.research.google.com/github/Aerdor1998/Faculdade/blob/main/Open_Weather_API.ipynb\" target=\"_parent\"><img src=\"https://colab.research.google.com/assets/colab-badge.svg\" alt=\"Open In Colab\"/></a>"
      ]
    },
    {
      "cell_type": "markdown",
      "source": [
        "# Consumindo a API do OPEN WEATHER\n",
        "\n",
        "OpenWeatherMap é um serviço online, de propriedade da OpenWeather Ltd, que fornece dados meteorológicos globais via API, incluindo dados meteorológicos atuais, previsões, previsões e dados meteorológicos históricos para qualquer localização geográfica\n",
        "\n",
        "https://openweathermap.org/\n",
        "\n",
        "\n"
      ],
      "metadata": {
        "id": "QLmc9l-wk9tK"
      }
    },
    {
      "cell_type": "markdown",
      "source": [
        "## Exercício\n",
        "\n",
        "Consuma a API OPEN WEATHER de uma cidade que comece com a mesma letra do seu nome, normalize a saida para que seja amigavel para o usuário, e converta as unidades para os padrões que usamos no Brasil.\n",
        "\n",
        "Para isso consulte a documentação do openweather, doc da biblioteca \"requests\" do python e materiais onlines\n",
        "\n",
        "Após terminar o exercicio, disponibilize um link do **github** em um repositorio da sua escolha para a correção\n",
        "\n",
        "*Arquivo > Salvar uma cópia no Github*\n",
        "\n",
        "Insira seu nome e RM abaixo"
      ],
      "metadata": {
        "id": "qPrM1XR3lcsx"
      }
    },
    {
      "cell_type": "code",
      "source": [
        "nome = input('Insira seu nome: Lucas Matheus ')\n",
        "rm = input('Insira seu rm: 550466 ')"
      ],
      "metadata": {
        "id": "vv5aH-8pmZLx"
      },
      "execution_count": null,
      "outputs": []
    },
    {
      "cell_type": "markdown",
      "source": [
        "# Utilize a **Current weather data** para acessar o clima local da cidade\n",
        "\n",
        "Exemplo de endpoint utilizado na doc da api\n",
        "\n",
        "https://api.openweathermap.org/data/2.5/weather?lat={lat}&lon={lon}&appid={API_key}"
      ],
      "metadata": {
        "id": "2LcLA-zQnpmJ"
      }
    },
    {
      "cell_type": "code",
      "source": [
        "#Lembre-se de importar a biblioteca\n",
        "import requests"
      ],
      "metadata": {
        "id": "gDeBIuvpwSWo"
      },
      "execution_count": 2,
      "outputs": []
    },
    {
      "cell_type": "code",
      "execution_count": 32,
      "metadata": {
        "id": "oT2RcDkNkpDi"
      },
      "outputs": [],
      "source": [
        "API_KEY = \"1439d8febab30be8af3778b66f409e7a\"\n",
        "cidade = \"Maceió\"\n",
        "endpoint = f\"https://api.openweathermap.org/data/2.5/weather?q={cidade}&appid={API_KEY}\"\n",
        "\n",
        "\n",
        "requisicao = requests.get(f\"https://api.openweathermap.org/data/2.5/weather?q={cidade}&appid={API_KEY}\")\n",
        "resposta = requisicao.json()\n",
        "\n"
      ]
    },
    {
      "cell_type": "markdown",
      "source": [
        "A saida da sua API deve conter 2 informações essenciais:\n",
        "\n",
        "\n",
        "\n",
        "1.   Descrição ( description )\n",
        "2.   Temperatura em Celsius ( temp )\n",
        "\n",
        "Insira abaixo a saida normalizada:\n"
      ],
      "metadata": {
        "id": "01EQXOH_oekh"
      }
    },
    {
      "cell_type": "code",
      "source": [
        "desc = resposta['weather'][0]['description']\n",
        "temp = resposta['main']['temp']\n",
        "\n",
        "print(desc, temp)\n"
      ],
      "metadata": {
        "colab": {
          "base_uri": "https://localhost:8080/"
        },
        "id": "gD0e0T8YtyEB",
        "outputId": "5b5b81a6-e37e-4dad-bbd2-26a3a9588e75"
      },
      "execution_count": 33,
      "outputs": [
        {
          "output_type": "stream",
          "name": "stdout",
          "text": [
            "broken clouds 302.84\n"
          ]
        }
      ]
    },
    {
      "cell_type": "code",
      "source": [
        "temp_c = {temp - 273}\n",
        "temp_c"
      ],
      "metadata": {
        "colab": {
          "base_uri": "https://localhost:8080/"
        },
        "id": "5aIfArEAufCo",
        "outputId": "8e5eee9f-e021-4d11-bf30-c1138e89fef7"
      },
      "execution_count": 34,
      "outputs": [
        {
          "output_type": "execute_result",
          "data": {
            "text/plain": [
              "{29.839999999999975}"
            ]
          },
          "metadata": {},
          "execution_count": 34
        }
      ]
    }
  ]
}