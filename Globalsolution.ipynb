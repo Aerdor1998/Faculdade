{
  "nbformat": 4,
  "nbformat_minor": 0,
  "metadata": {
    "colab": {
      "provenance": []
    },
    "kernelspec": {
      "name": "python3",
      "display_name": "Python 3"
    },
    "language_info": {
      "name": "python"
    }
  },
  "cells": [
    {
      "cell_type": "code",
      "execution_count": null,
      "metadata": {
        "id": "Nq-o3RuXI_bC"
      },
      "outputs": [],
      "source": [
        "#Lucas Matheus da Silva - RM - 550466\n",
        "#Arthur Pedroso de Francesco - RM - 551087\n",
        "\n",
        "# Importar as bibliotecas necessárias\n",
        "from sqlalchemy import create_engine\n",
        "import pandas as pd\n",
        "\n",
        "# Configurar a conexão com o banco de dados\n",
        "# Substitua as informações abaixo pelos detalhes do seu banco de dados\n",
        "database_type = '<global-solution>.mysql.database.azure.com'  # ex: 'postgresql'\n",
        "username = 'fiap'\n",
        "password = 'globalsolution2023'\n",
        "host = 'global-solution.mysql.database.azure.com'\n",
        "port = 'porta_do_servidor'\n",
        "database_name = 'desperdicio'\n",
        "\n",
        "# Criar a string de conexão\n",
        "connection_string = f'{database_type}://{username}:{password}@{host}:{port}/{database_name}'\n",
        "\n",
        "# Criar o objeto de conexão\n",
        "engine = create_engine(connection_string)\n",
        "\n",
        "# Consultar os produtos próximos ao vencimento\n",
        "# Substitua 'tabela_produtos' pelo nome da tabela onde estão armazenados os produtos\n",
        "# Substitua 'tabela_fornecedores' pelo nome da tabela onde estão armazenados os fornecedores\n",
        "query = '''\n",
        "SELECT p.nome AS produto, f.nome AS fornecedor\n",
        "FROM tabela_produtos p\n",
        "JOIN tabela_fornecedores f ON p.fornecedor_id = f.id\n",
        "WHERE p.data_vencimento <= CURRENT_DATE()\n",
        "'''\n",
        "\n",
        "# Executar a consulta e obter os resultados em um DataFrame\n",
        "df = pd.read_sql(query, engine)\n",
        "\n",
        "# Exibir o resultado\n",
        "df.head()\n"
      ]
    },
    {
      "cell_type": "code",
      "source": [],
      "metadata": {
        "id": "DMne8QiPNU6O"
      },
      "execution_count": null,
      "outputs": []
    }
  ]
}