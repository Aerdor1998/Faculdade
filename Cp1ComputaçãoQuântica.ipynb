{
  "nbformat": 4,
  "nbformat_minor": 0,
  "metadata": {
    "colab": {
      "provenance": [],
      "authorship_tag": "ABX9TyPwuAW0VKon60iYzMhNzVO3",
      "include_colab_link": true
    },
    "kernelspec": {
      "name": "python3",
      "display_name": "Python 3"
    },
    "language_info": {
      "name": "python"
    }
  },
  "cells": [
    {
      "cell_type": "markdown",
      "metadata": {
        "id": "view-in-github",
        "colab_type": "text"
      },
      "source": [
        "<a href=\"https://colab.research.google.com/github/Aerdor1998/Faculdade/blob/main/Cp1Computa%C3%A7%C3%A3oQu%C3%A2ntica.ipynb\" target=\"_parent\"><img src=\"https://colab.research.google.com/assets/colab-badge.svg\" alt=\"Open In Colab\"/></a>"
      ]
    },
    {
      "cell_type": "markdown",
      "source": [
        "Lucas Matheus da Silva - RM: 550466\n",
        "\n",
        "Raphael Rodrigues Papa - RM: 552432\n",
        "\n"
      ],
      "metadata": {
        "id": "BrtQWvXj3xP2"
      }
    },
    {
      "cell_type": "code",
      "source": [
        "!pip install qiskit"
      ],
      "metadata": {
        "colab": {
          "base_uri": "https://localhost:8080/"
        },
        "id": "0sVbAzwg2kG0",
        "outputId": "2e853c32-15a3-45ed-83a2-20046334f2f0"
      },
      "execution_count": 1,
      "outputs": [
        {
          "output_type": "stream",
          "name": "stdout",
          "text": [
            "Collecting qiskit\n",
            "  Downloading qiskit-1.0.2-cp38-abi3-manylinux_2_17_x86_64.manylinux2014_x86_64.whl (5.6 MB)\n",
            "\u001b[2K     \u001b[90m━━━━━━━━━━━━━━━━━━━━━━━━━━━━━━━━━━━━━━━━\u001b[0m \u001b[32m5.6/5.6 MB\u001b[0m \u001b[31m28.5 MB/s\u001b[0m eta \u001b[36m0:00:00\u001b[0m\n",
            "\u001b[?25hCollecting rustworkx>=0.14.0 (from qiskit)\n",
            "  Downloading rustworkx-0.14.2-cp310-cp310-manylinux_2_17_x86_64.manylinux2014_x86_64.whl (2.1 MB)\n",
            "\u001b[2K     \u001b[90m━━━━━━━━━━━━━━━━━━━━━━━━━━━━━━━━━━━━━━━━\u001b[0m \u001b[32m2.1/2.1 MB\u001b[0m \u001b[31m55.6 MB/s\u001b[0m eta \u001b[36m0:00:00\u001b[0m\n",
            "\u001b[?25hRequirement already satisfied: numpy<2,>=1.17 in /usr/local/lib/python3.10/dist-packages (from qiskit) (1.25.2)\n",
            "Requirement already satisfied: scipy>=1.5 in /usr/local/lib/python3.10/dist-packages (from qiskit) (1.11.4)\n",
            "Requirement already satisfied: sympy>=1.3 in /usr/local/lib/python3.10/dist-packages (from qiskit) (1.12)\n",
            "Collecting dill>=0.3 (from qiskit)\n",
            "  Downloading dill-0.3.8-py3-none-any.whl (116 kB)\n",
            "\u001b[2K     \u001b[90m━━━━━━━━━━━━━━━━━━━━━━━━━━━━━━━━━━━━━━━━\u001b[0m \u001b[32m116.3/116.3 kB\u001b[0m \u001b[31m11.1 MB/s\u001b[0m eta \u001b[36m0:00:00\u001b[0m\n",
            "\u001b[?25hRequirement already satisfied: python-dateutil>=2.8.0 in /usr/local/lib/python3.10/dist-packages (from qiskit) (2.8.2)\n",
            "Collecting stevedore>=3.0.0 (from qiskit)\n",
            "  Downloading stevedore-5.2.0-py3-none-any.whl (49 kB)\n",
            "\u001b[2K     \u001b[90m━━━━━━━━━━━━━━━━━━━━━━━━━━━━━━━━━━━━━━━━\u001b[0m \u001b[32m49.7/49.7 kB\u001b[0m \u001b[31m3.6 MB/s\u001b[0m eta \u001b[36m0:00:00\u001b[0m\n",
            "\u001b[?25hRequirement already satisfied: typing-extensions in /usr/local/lib/python3.10/dist-packages (from qiskit) (4.11.0)\n",
            "Collecting symengine>=0.11 (from qiskit)\n",
            "  Downloading symengine-0.11.0-cp310-cp310-manylinux_2_12_x86_64.manylinux2010_x86_64.whl (39.4 MB)\n",
            "\u001b[2K     \u001b[90m━━━━━━━━━━━━━━━━━━━━━━━━━━━━━━━━━━━━━━━━\u001b[0m \u001b[32m39.4/39.4 MB\u001b[0m \u001b[31m13.4 MB/s\u001b[0m eta \u001b[36m0:00:00\u001b[0m\n",
            "\u001b[?25hRequirement already satisfied: six>=1.5 in /usr/local/lib/python3.10/dist-packages (from python-dateutil>=2.8.0->qiskit) (1.16.0)\n",
            "Collecting pbr!=2.1.0,>=2.0.0 (from stevedore>=3.0.0->qiskit)\n",
            "  Downloading pbr-6.0.0-py2.py3-none-any.whl (107 kB)\n",
            "\u001b[2K     \u001b[90m━━━━━━━━━━━━━━━━━━━━━━━━━━━━━━━━━━━━━━━━\u001b[0m \u001b[32m107.5/107.5 kB\u001b[0m \u001b[31m4.5 MB/s\u001b[0m eta \u001b[36m0:00:00\u001b[0m\n",
            "\u001b[?25hRequirement already satisfied: mpmath>=0.19 in /usr/local/lib/python3.10/dist-packages (from sympy>=1.3->qiskit) (1.3.0)\n",
            "Installing collected packages: symengine, rustworkx, pbr, dill, stevedore, qiskit\n",
            "Successfully installed dill-0.3.8 pbr-6.0.0 qiskit-1.0.2 rustworkx-0.14.2 stevedore-5.2.0 symengine-0.11.0\n"
          ]
        }
      ]
    },
    {
      "cell_type": "markdown",
      "source": [],
      "metadata": {
        "id": "RWTyf2ZG3t8T"
      }
    },
    {
      "cell_type": "code",
      "execution_count": 2,
      "metadata": {
        "colab": {
          "base_uri": "https://localhost:8080/",
          "height": 171
        },
        "id": "_eZnK8el2bou",
        "outputId": "2cbed10e-de32-43bb-a9c6-3754a13654ec"
      },
      "outputs": [
        {
          "output_type": "execute_result",
          "data": {
            "text/plain": [
              "                ░  ░      ┌───┐ ░ ┌─┐                     \n",
              "q_0: ───────────░──░───■──┤ H ├─░─┤M├────────────────■────\n",
              "     ┌───┐      ░  ░ ┌─┴─┐└───┘ ░ └╥┘┌─┐             │    \n",
              "q_1: ┤ H ├──■───░──░─┤ X ├──────░──╫─┤M├────■────────┼────\n",
              "     └───┘┌─┴─┐ ░  ░ └───┘      ░  ║ └╥┘┌───┴───┐┌───┴───┐\n",
              "q_2: ─────┤ X ├─░──░────────────░──╫──╫─┤ Rx(π) ├┤ Rz(π) ├\n",
              "          └───┘ ░  ░            ░  ║  ║ └───╥───┘└───╥───┘\n",
              "                                   ║  ║  ┌──╨──┐  ┌──╨──┐ \n",
              "c: 4/══════════════════════════════╩══╩══╡ 0x1 ╞══╡ 0x1 ╞═\n",
              "                                   0  1  └─────┘  └─────┘ "
            ],
            "text/html": [
              "<pre style=\"word-wrap: normal;white-space: pre;background: #fff0;line-height: 1.1;font-family: &quot;Courier New&quot;,Courier,monospace\">                ░  ░      ┌───┐ ░ ┌─┐                     \n",
              "q_0: ───────────░──░───■──┤ H ├─░─┤M├────────────────■────\n",
              "     ┌───┐      ░  ░ ┌─┴─┐└───┘ ░ └╥┘┌─┐             │    \n",
              "q_1: ┤ H ├──■───░──░─┤ X ├──────░──╫─┤M├────■────────┼────\n",
              "     └───┘┌─┴─┐ ░  ░ └───┘      ░  ║ └╥┘┌───┴───┐┌───┴───┐\n",
              "q_2: ─────┤ X ├─░──░────────────░──╫──╫─┤ Rx(π) ├┤ Rz(π) ├\n",
              "          └───┘ ░  ░            ░  ║  ║ └───╥───┘└───╥───┘\n",
              "                                   ║  ║  ┌──╨──┐  ┌──╨──┐ \n",
              "c: 4/══════════════════════════════╩══╩══╡ 0x1 ╞══╡ 0x1 ╞═\n",
              "                                   0  1  └─────┘  └─────┘ </pre>"
            ]
          },
          "metadata": {},
          "execution_count": 2
        }
      ],
      "source": [
        "from qiskit import QuantumRegister, ClassicalRegister, QuantumCircuit\n",
        "from numpy import pi\n",
        "\n",
        "qreg_q = QuantumRegister(3, 'q')\n",
        "creg_c = ClassicalRegister(4, 'c')\n",
        "circuit = QuantumCircuit(qreg_q, creg_c)\n",
        "\n",
        "circuit.h(qreg_q[1])\n",
        "circuit.cx(qreg_q[1], qreg_q[2])\n",
        "circuit.barrier(qreg_q)\n",
        "# @phaseDisk\n",
        "circuit.barrier(qreg_q[0], qreg_q[1], qreg_q[2])\n",
        "circuit.cx(qreg_q[0], qreg_q[1])\n",
        "circuit.h(qreg_q[0])\n",
        "circuit.barrier(qreg_q[0], qreg_q[1], qreg_q[2])\n",
        "circuit.measure(qreg_q[0], creg_c[0])\n",
        "circuit.measure(qreg_q[1], creg_c[1])\n",
        "circuit.crx(pi, qreg_q[1], qreg_q[2]).c_if(creg_c, 1)\n",
        "circuit.crz(pi, qreg_q[0], qreg_q[2]).c_if(creg_c, 1)\n",
        "\n",
        "circuit.draw()"
      ]
    },
    {
      "cell_type": "markdown",
      "source": [
        "1- Teleportation é um processo da computação e informação quântica que permite transferir o estado quântico de uma partícula para outra, a distância, com ajuda de um canal de comunicação clássico e do princípio de emaranhamento quântico.\n",
        "\n",
        "2- Consiste no transferência das propriedades quânticas de uma partícula para outra em um local distante, pode recriar o mesmo estado quântico por ser capaz de transferir suas propriedades. Possibilita uma a transmissão de informações quântificadas de forma segura e inviolável.\n",
        "\n",
        "3- Pode ser usado em:\n",
        "\n",
        "\n",
        "*   Computação quântica distruída: Permite conectar diferentes computadores quânticos geograficamente separados, transferindo estados quânticos entre eles.\n",
        "\n",
        "*   Comunicações quânticas: Transmissão segura de informações codificadas em qubits através de canais quânticos e a criação de redes quânticas para distribuição de chaves criptográficas totalmente segura\n",
        "\n",
        "*   Simulações quânticas: Criação de estados quânticos complexos teleportando-os a partir de múltiplas fontes.\n",
        "\n",
        "4- A matemática por trás do teleporte quântico envolve conceitos da mecânica quântica, como estados quânticos, emaranhamento e medidas projetivas, sendo eles:\n",
        "\n",
        "\n",
        "*   Estados quânticos: Um estado quântico é representado por um vetor de estado |ψ⟩ em um espaço de Hilbert.\n",
        "*   Emaranhamento quântico:O emaranhamento é um fenômeno puramente quântico, no qual dois ou mais sistemas estão intrinsecamente correlacionados. Um estado emaranhado de duas partículas é descrito por |ψ⟩ = Σ cij|i⟩|j⟩, uma combinação linear de produtos tensoriais dos estados de cada partícula.\n",
        "\n",
        "\n",
        "*   Medidas projetivas: As medidas quânticas são descritas por operadores hermitianos que projetam o estado em autovetores correspondentes a resultados possíveis.\n",
        "*   Circuito de teleportação: O circuito quântico para teleportar um qubit desconhecido |ψ⟩ = α|0⟩ + β|1⟩, envolve um par de qubits emaranhados: |ϕ⟩ = (1/√2)(|00⟩ + |11⟩), aplicar uma porta quântica controlada por |ψ⟩ em um dos qubits emaranhados, medir os dois qubits em uma base de Bell (emaranhada),transmitir os resultados clássicos da medida, aplicar gates de correção no outro qubit emaranhado baseado nos resultados.\n",
        "\n",
        "5 -\n",
        "*   Primeiro instalamos o qiskit e importamos as classes necessárias da biblioteca Qiskit para criar registros quânticos, registros clássicos e circuitos quânticos.\n",
        "\n",
        "*   Importamos o valor de pi do módulo numpy.\n",
        "*   Criamos um registro quântico com 3 qubits, nomeado 'q'\n",
        "\n",
        "*   Criamos um registro clássico com 4 bits, nomeado 'c'\n",
        "\n",
        "*   Criamos um circuito quântico usando os registros quânticos e clássicos\n",
        "*   Aplicamos a porta Hadamard no segundo qubit do registro quântico, criando uma superposição de estados.\n",
        "\n",
        "\n",
        "*  Aplicamos a porta controlada-NOT (CX) com o segundo qubit como controle e o terceiro qubit como alvo, emaranhando os dois qubits.\n",
        "\n",
        "\n",
        "\n",
        "\n",
        "* Inserimos uma barreira no circuito, indicando que todas as operações antes dessa barreira devem ser concluídas antes de prosseguir.\n",
        "\n",
        "\n",
        "* Inserimos outra barreira, mas agora apenas nos qubits 0, 1 e 2.\n",
        "\n",
        "* Aplicamos a porta CX com o primeiro qubit como controle e o segundo qubit como alvo.\n",
        "* Aplicamos a porta Hadamard no primeiro qubit.\n",
        "\n",
        "\n",
        "* Insere outra barreira nos qubits 0, 1 e 2.\n",
        "\n",
        "\n",
        "* Faz a medição do estado do primeiro qubit e armazena o resultado no primeiro bit do registro clássico.\n",
        "\n",
        "\n",
        "* Mede o estado do segundo qubit e armazena o resultado no segundo bit do registro clássico.\n",
        "*  Aplicamos uma rotação controlada em torno do eixo X, com ângulo pi, no terceiro qubit, controlada pelo segundo qubit, condicionada ao valor 1 no registro clássico.\n",
        "\n",
        "\n",
        "\n",
        "*  Aplicamos uma rotação controlada em torno do eixo Z, com ângulo pi, no terceiro qubit, controlada pelo primeiro qubit, condicionada ao valor 1 no registro clássico.\n",
        "Por fim, geramos uma representação visual do circuito quântico criado.\n",
        "\n",
        "\n",
        "\n",
        "\n",
        "\n",
        "\n",
        "\n",
        "\n",
        "\n",
        "\n",
        "\n",
        "\n"
      ],
      "metadata": {
        "id": "PBj75RVb4PmW"
      }
    }
  ]
}