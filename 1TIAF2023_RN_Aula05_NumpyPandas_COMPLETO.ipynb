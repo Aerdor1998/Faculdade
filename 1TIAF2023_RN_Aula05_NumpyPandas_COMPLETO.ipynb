{
  "cells": [
    {
      "cell_type": "markdown",
      "metadata": {
        "id": "hgEtVt1Gvb3a"
      },
      "source": [
        "FIAP - IA & Machine Learning"
      ]
    },
    {
      "cell_type": "markdown",
      "metadata": {
        "id": "o0xqyQzLvb3k"
      },
      "source": [
        "# Aula 04 - Principais bibliotecas Python para Data Science\n",
        "\n",
        "- Numpy\n",
        "- Pandas\n"
      ]
    },
    {
      "cell_type": "markdown",
      "metadata": {
        "id": "dAc-8NAsvb3p"
      },
      "source": [
        "## Biblioteca Numpy\n",
        "\n",
        "- Abreviatura de *Numerical Python*\n",
        "- Pedra angular do processamento numérico em Python\n",
        "- Oferece estruturas de dados, algoritmos e rotinas necessários à maioria das aplicações científicas que envolvam dados númericos em Python\n",
        "- Os *arrays* em Numpy são mais eficientes para armazenar e manipular dados do que as outras estruturas de dados nativas (built-in) do Python (e.g., Listas)\n",
        "- Muitas bibliotecas e ferramentas de processamento numérico para Python supõem os arrays Numpy como uma estrutura de dados principal\n",
        "\n",
        "- Comando tradicional para uso:\n",
        "`import numpy as np`"
      ]
    },
    {
      "cell_type": "markdown",
      "metadata": {
        "id": "JBcP5JmTvb3s"
      },
      "source": [
        "### O array multidimensional (ndarray)\n",
        "\n",
        "- Um dos principais recursos do NumPy é seu objeto array N-dimensional (ndarray)\n",
        "- Trata-se de um contêiner rápido para conjuntos de dados grandes, permitindo a realização de operações matemáticas em blocos inteiros de dados\n",
        "- É um contêiner genérico multidimensional para dados *homogêneos*, isto é, todos os elementos devem ser do mesmo tipo.\n",
        "\n",
        "- Exemplo:"
      ]
    },
    {
      "cell_type": "code",
      "execution_count": null,
      "metadata": {
        "id": "BwtUCljcvb3z",
        "colab": {
          "base_uri": "https://localhost:8080/"
        },
        "outputId": "98641654-ad5a-476d-ddab-59b94878e8cd"
      },
      "outputs": [
        {
          "output_type": "stream",
          "name": "stdout",
          "text": [
            "Looking in indexes: https://pypi.org/simple, https://us-python.pkg.dev/colab-wheels/public/simple/\n",
            "Requirement already satisfied: numpy in /usr/local/lib/python3.9/dist-packages (1.22.4)\n"
          ]
        }
      ],
      "source": [
        "!pip install numpy"
      ]
    },
    {
      "cell_type": "code",
      "execution_count": null,
      "metadata": {
        "ExecuteTime": {
          "end_time": "2021-01-18T00:21:48.481304Z",
          "start_time": "2021-01-18T00:21:47.537635Z"
        },
        "id": "Oqb-NrRhvb33",
        "colab": {
          "base_uri": "https://localhost:8080/"
        },
        "outputId": "b37946ca-49e8-43a2-9a34-2071ee5602b3"
      },
      "outputs": [
        {
          "output_type": "execute_result",
          "data": {
            "text/plain": [
              "array([[-0.00438613, -1.97103748, -0.399164  ],\n",
              "       [ 0.31105506,  1.02941001,  0.72654207]])"
            ]
          },
          "metadata": {},
          "execution_count": 2
        }
      ],
      "source": [
        "import numpy as np\n",
        "data = np.random.randn(2, 3)\n",
        "data"
      ]
    },
    {
      "cell_type": "markdown",
      "metadata": {
        "id": "w5Uyrxvevb36"
      },
      "source": [
        "- É possível escrever operações matemáticas aplicadas ao array:"
      ]
    },
    {
      "cell_type": "code",
      "execution_count": null,
      "metadata": {
        "ExecuteTime": {
          "end_time": "2021-01-03T01:47:45.670996Z",
          "start_time": "2021-01-03T01:47:45.665603Z"
        },
        "id": "V9bRPPEpvb38",
        "colab": {
          "base_uri": "https://localhost:8080/"
        },
        "outputId": "dcecf0c6-6abc-4eec-a417-490a58659259"
      },
      "outputs": [
        {
          "output_type": "execute_result",
          "data": {
            "text/plain": [
              "array([[ -0.04386133, -19.71037485,  -3.99164004],\n",
              "       [  3.11055056,  10.29410015,   7.26542066]])"
            ]
          },
          "metadata": {},
          "execution_count": 3
        }
      ],
      "source": [
        "data * 10"
      ]
    },
    {
      "cell_type": "code",
      "execution_count": null,
      "metadata": {
        "ExecuteTime": {
          "end_time": "2021-01-03T01:47:46.593624Z",
          "start_time": "2021-01-03T01:47:46.580099Z"
        },
        "id": "VY_KIhE8vb3-",
        "colab": {
          "base_uri": "https://localhost:8080/"
        },
        "outputId": "20b64648-97e1-4696-8048-fd7b32aa4ab4"
      },
      "outputs": [
        {
          "output_type": "execute_result",
          "data": {
            "text/plain": [
              "array([[-0.00877227, -3.94207497, -0.79832801],\n",
              "       [ 0.62211011,  2.05882003,  1.45308413]])"
            ]
          },
          "metadata": {},
          "execution_count": 4
        }
      ],
      "source": [
        "data + data"
      ]
    },
    {
      "cell_type": "code",
      "execution_count": null,
      "metadata": {
        "ExecuteTime": {
          "end_time": "2021-01-03T01:47:47.048398Z",
          "start_time": "2021-01-03T01:47:47.043803Z"
        },
        "id": "90fRZ2rnvb4A",
        "colab": {
          "base_uri": "https://localhost:8080/"
        },
        "outputId": "dafc7d72-3ae8-4c55-99ea-034684257649"
      },
      "outputs": [
        {
          "output_type": "execute_result",
          "data": {
            "text/plain": [
              "array([[0., 0., 0.],\n",
              "       [0., 0., 0.]])"
            ]
          },
          "metadata": {},
          "execution_count": 5
        }
      ],
      "source": [
        "data - data"
      ]
    },
    {
      "cell_type": "markdown",
      "metadata": {
        "id": "QguwBekGvb4C"
      },
      "source": [
        "### Criando ndarrays\n",
        "\n",
        "- A maneira mais fácil de criar um array é usar a função `array`\n",
        "- Ela aceita qualquer objeto do tipo sequência (uma lista, por exemplo) e gera um novo array Numpy"
      ]
    },
    {
      "cell_type": "code",
      "execution_count": null,
      "metadata": {
        "ExecuteTime": {
          "end_time": "2020-12-24T13:37:16.337729Z",
          "start_time": "2020-12-24T13:37:16.335457Z"
        },
        "id": "I71Dq0yfvb4E"
      },
      "outputs": [],
      "source": [
        "lista = [6, 6.75, 8, 0, 1]"
      ]
    },
    {
      "cell_type": "code",
      "execution_count": null,
      "metadata": {
        "id": "PegRaHHhvb4F",
        "colab": {
          "base_uri": "https://localhost:8080/"
        },
        "outputId": "b299516f-cead-469d-89a8-06d6733aa196"
      },
      "outputs": [
        {
          "output_type": "execute_result",
          "data": {
            "text/plain": [
              "[6, 6.75, 8, 0, 1]"
            ]
          },
          "metadata": {},
          "execution_count": 7
        }
      ],
      "source": [
        "lista"
      ]
    },
    {
      "cell_type": "code",
      "execution_count": null,
      "metadata": {
        "ExecuteTime": {
          "end_time": "2020-12-24T13:37:38.659009Z",
          "start_time": "2020-12-24T13:37:38.656872Z"
        },
        "id": "EgB1HJI8vb4G"
      },
      "outputs": [],
      "source": [
        "arr1 = np.array( lista )"
      ]
    },
    {
      "cell_type": "code",
      "execution_count": null,
      "metadata": {
        "ExecuteTime": {
          "end_time": "2020-12-24T13:37:44.090393Z",
          "start_time": "2020-12-24T13:37:44.086541Z"
        },
        "id": "A8XS2VK5vb4H",
        "colab": {
          "base_uri": "https://localhost:8080/"
        },
        "outputId": "bb6cb622-7c98-4fbd-fd71-8572ef9b1390"
      },
      "outputs": [
        {
          "output_type": "execute_result",
          "data": {
            "text/plain": [
              "array([6.  , 6.75, 8.  , 0.  , 1.  ])"
            ]
          },
          "metadata": {},
          "execution_count": 9
        }
      ],
      "source": [
        "arr1"
      ]
    },
    {
      "cell_type": "code",
      "execution_count": null,
      "metadata": {
        "ExecuteTime": {
          "end_time": "2020-12-24T13:37:48.872960Z",
          "start_time": "2020-12-24T13:37:48.869717Z"
        },
        "id": "-CCDsnoEvb4I",
        "colab": {
          "base_uri": "https://localhost:8080/"
        },
        "outputId": "36b541c7-a727-415f-b09c-6490c7e8ebce"
      },
      "outputs": [
        {
          "output_type": "execute_result",
          "data": {
            "text/plain": [
              "numpy.ndarray"
            ]
          },
          "metadata": {},
          "execution_count": 10
        }
      ],
      "source": [
        "type(arr1)"
      ]
    },
    {
      "cell_type": "code",
      "execution_count": null,
      "metadata": {
        "ExecuteTime": {
          "end_time": "2020-12-24T13:38:36.621058Z",
          "start_time": "2020-12-24T13:38:36.617597Z"
        },
        "id": "6JxM6GnBvb4J",
        "colab": {
          "base_uri": "https://localhost:8080/"
        },
        "outputId": "56e322dd-6e2f-4465-caeb-49f1a272a6f0"
      },
      "outputs": [
        {
          "output_type": "execute_result",
          "data": {
            "text/plain": [
              "1"
            ]
          },
          "metadata": {},
          "execution_count": 11
        }
      ],
      "source": [
        "# Quantas dimensões existem?\n",
        "arr1.ndim"
      ]
    },
    {
      "cell_type": "code",
      "execution_count": null,
      "metadata": {
        "ExecuteTime": {
          "end_time": "2020-12-24T13:38:57.724724Z",
          "start_time": "2020-12-24T13:38:57.721439Z"
        },
        "scrolled": true,
        "id": "SWdGf5aTvb4L",
        "colab": {
          "base_uri": "https://localhost:8080/"
        },
        "outputId": "3c8f4281-bdce-409d-dc4d-0c42d1d4ddc7"
      },
      "outputs": [
        {
          "output_type": "execute_result",
          "data": {
            "text/plain": [
              "(5,)"
            ]
          },
          "metadata": {},
          "execution_count": 12
        }
      ],
      "source": [
        "# Qual é o formato deste array?\n",
        "arr1.shape"
      ]
    },
    {
      "cell_type": "markdown",
      "metadata": {
        "id": "6CtTVW22vb4M"
      },
      "source": [
        "- Arrays multidimensionais \n",
        "\n"
      ]
    },
    {
      "cell_type": "code",
      "execution_count": null,
      "metadata": {
        "ExecuteTime": {
          "end_time": "2020-12-24T13:47:33.756140Z",
          "start_time": "2020-12-24T13:47:33.753199Z"
        },
        "id": "YY1uh2L8vb4N",
        "colab": {
          "base_uri": "https://localhost:8080/"
        },
        "outputId": "c3a6b1ea-8cc2-420b-fcf1-770a32e486ae"
      },
      "outputs": [
        {
          "output_type": "execute_result",
          "data": {
            "text/plain": [
              "array([[0., 0., 0., 0., 0., 0., 0., 0., 0.],\n",
              "       [0., 0., 0., 0., 0., 0., 0., 0., 0.],\n",
              "       [0., 0., 0., 0., 0., 0., 0., 0., 0.],\n",
              "       [0., 0., 0., 0., 0., 0., 0., 0., 0.],\n",
              "       [0., 0., 0., 0., 0., 0., 0., 0., 0.],\n",
              "       [0., 0., 0., 0., 0., 0., 0., 0., 0.],\n",
              "       [0., 0., 0., 0., 0., 0., 0., 0., 0.],\n",
              "       [0., 0., 0., 0., 0., 0., 0., 0., 0.],\n",
              "       [0., 0., 0., 0., 0., 0., 0., 0., 0.],\n",
              "       [0., 0., 0., 0., 0., 0., 0., 0., 0.],\n",
              "       [0., 0., 0., 0., 0., 0., 0., 0., 0.],\n",
              "       [0., 0., 0., 0., 0., 0., 0., 0., 0.],\n",
              "       [0., 0., 0., 0., 0., 0., 0., 0., 0.],\n",
              "       [0., 0., 0., 0., 0., 0., 0., 0., 0.],\n",
              "       [0., 0., 0., 0., 0., 0., 0., 0., 0.],\n",
              "       [0., 0., 0., 0., 0., 0., 0., 0., 0.],\n",
              "       [0., 0., 0., 0., 0., 0., 0., 0., 0.],\n",
              "       [0., 0., 0., 0., 0., 0., 0., 0., 0.],\n",
              "       [0., 0., 0., 0., 0., 0., 0., 0., 0.],\n",
              "       [0., 0., 0., 0., 0., 0., 0., 0., 0.],\n",
              "       [0., 0., 0., 0., 0., 0., 0., 0., 0.],\n",
              "       [0., 0., 0., 0., 0., 0., 0., 0., 0.],\n",
              "       [0., 0., 0., 0., 0., 0., 0., 0., 0.],\n",
              "       [0., 0., 0., 0., 0., 0., 0., 0., 0.],\n",
              "       [0., 0., 0., 0., 0., 0., 0., 0., 0.]])"
            ]
          },
          "metadata": {},
          "execution_count": 16
        }
      ],
      "source": [
        "a = np.zeros( (25, 9) )\n",
        "a"
      ]
    },
    {
      "cell_type": "code",
      "execution_count": null,
      "metadata": {
        "ExecuteTime": {
          "end_time": "2020-12-24T13:47:47.437246Z",
          "start_time": "2020-12-24T13:47:47.433685Z"
        },
        "id": "fgST-xR-vb4P",
        "colab": {
          "base_uri": "https://localhost:8080/"
        },
        "outputId": "9f53b67a-49a0-4791-dc66-ad6dfd203daa"
      },
      "outputs": [
        {
          "output_type": "execute_result",
          "data": {
            "text/plain": [
              "2"
            ]
          },
          "metadata": {},
          "execution_count": 17
        }
      ],
      "source": [
        "a.ndim"
      ]
    },
    {
      "cell_type": "code",
      "execution_count": null,
      "metadata": {
        "ExecuteTime": {
          "end_time": "2020-12-24T13:47:53.452026Z",
          "start_time": "2020-12-24T13:47:53.447952Z"
        },
        "id": "pYWCg1nfvb4R",
        "colab": {
          "base_uri": "https://localhost:8080/"
        },
        "outputId": "d4e33333-605c-4c14-e804-4b0d35797d76"
      },
      "outputs": [
        {
          "output_type": "execute_result",
          "data": {
            "text/plain": [
              "(25, 9)"
            ]
          },
          "metadata": {},
          "execution_count": 18
        }
      ],
      "source": [
        "a.shape"
      ]
    },
    {
      "cell_type": "code",
      "execution_count": null,
      "metadata": {
        "id": "8SSGYbIvvb4T"
      },
      "outputs": [],
      "source": []
    },
    {
      "cell_type": "code",
      "execution_count": null,
      "metadata": {
        "ExecuteTime": {
          "end_time": "2020-12-24T13:49:12.935859Z",
          "start_time": "2020-12-24T13:49:12.932559Z"
        },
        "id": "4dg-G4eVvb4X",
        "colab": {
          "base_uri": "https://localhost:8080/"
        },
        "outputId": "7d05e5af-b000-45a9-fd41-8545ed249d42"
      },
      "outputs": [
        {
          "output_type": "stream",
          "name": "stdout",
          "text": [
            "[[-1.03299955 -0.69813532  1.25196184]\n",
            " [ 0.63207583 -0.16559863 -0.93091812]]\n",
            "n dims:  2\n",
            "shape:  (2, 3)\n"
          ]
        }
      ],
      "source": [
        "b = np.random.randn(2, 3)\n",
        "print(b)\n",
        "print('n dims: ', b.ndim)\n",
        "print('shape: ', b.shape)"
      ]
    },
    {
      "cell_type": "markdown",
      "metadata": {
        "id": "UBSMFWfjvb4Z"
      },
      "source": [
        "- Operações matemáticas"
      ]
    },
    {
      "cell_type": "code",
      "execution_count": null,
      "metadata": {
        "ExecuteTime": {
          "end_time": "2020-12-24T13:50:32.560023Z",
          "start_time": "2020-12-24T13:50:32.555827Z"
        },
        "id": "X3mMOLw6vb4a",
        "colab": {
          "base_uri": "https://localhost:8080/"
        },
        "outputId": "bfd58568-d0b1-4b7a-a8af-6ec2298508ec"
      },
      "outputs": [
        {
          "output_type": "stream",
          "name": "stdout",
          "text": [
            "x = \n",
            " [[1. 2.]\n",
            " [3. 4.]]\n",
            "y = \n",
            " [[5. 6.]\n",
            " [7. 8.]]\n"
          ]
        }
      ],
      "source": [
        "x = np.array([[1,2],[3,4]], dtype=np.float64)\n",
        "y = np.array([[5,6],[7,8]], dtype=np.float64)\n",
        "print('x = \\n', x)\n",
        "print('y = \\n', y)"
      ]
    },
    {
      "cell_type": "code",
      "execution_count": null,
      "metadata": {
        "ExecuteTime": {
          "end_time": "2020-12-24T13:51:08.031955Z",
          "start_time": "2020-12-24T13:51:08.028853Z"
        },
        "id": "6OOwxngXvb4b",
        "colab": {
          "base_uri": "https://localhost:8080/"
        },
        "outputId": "fc8e79f7-805f-46fb-8db8-3cc10fe30a45"
      },
      "outputs": [
        {
          "output_type": "execute_result",
          "data": {
            "text/plain": [
              "array([[ 6.,  8.],\n",
              "       [10., 12.]])"
            ]
          },
          "metadata": {},
          "execution_count": 21
        }
      ],
      "source": [
        "# Soma \n",
        "x + y"
      ]
    },
    {
      "cell_type": "code",
      "execution_count": null,
      "metadata": {
        "ExecuteTime": {
          "end_time": "2020-12-24T13:51:17.362228Z",
          "start_time": "2020-12-24T13:51:17.359510Z"
        },
        "id": "Gm-ZB9R2vb4c",
        "colab": {
          "base_uri": "https://localhost:8080/"
        },
        "outputId": "85bec773-528d-45c4-d28b-174a7977275c"
      },
      "outputs": [
        {
          "output_type": "execute_result",
          "data": {
            "text/plain": [
              "array([[-4., -4.],\n",
              "       [-4., -4.]])"
            ]
          },
          "metadata": {},
          "execution_count": 22
        }
      ],
      "source": [
        "# Subtração\n",
        "x - y"
      ]
    },
    {
      "cell_type": "code",
      "execution_count": null,
      "metadata": {
        "ExecuteTime": {
          "end_time": "2020-12-24T13:57:17.573819Z",
          "start_time": "2020-12-24T13:57:17.571158Z"
        },
        "id": "FCiIeohcvb4d",
        "colab": {
          "base_uri": "https://localhost:8080/"
        },
        "outputId": "02ec9da9-1b28-48cf-eb17-2331a7ed2513"
      },
      "outputs": [
        {
          "output_type": "execute_result",
          "data": {
            "text/plain": [
              "array([[ 5., 12.],\n",
              "       [21., 32.]])"
            ]
          },
          "metadata": {},
          "execution_count": 23
        }
      ],
      "source": [
        "# Multiplicação\n",
        "x * y"
      ]
    },
    {
      "cell_type": "code",
      "execution_count": null,
      "metadata": {
        "ExecuteTime": {
          "end_time": "2020-12-24T14:05:29.390975Z",
          "start_time": "2020-12-24T14:05:29.388294Z"
        },
        "id": "k0VBGhktvb4e",
        "colab": {
          "base_uri": "https://localhost:8080/"
        },
        "outputId": "c71f02dd-7b62-4483-9622-c4253a4af648"
      },
      "outputs": [
        {
          "output_type": "execute_result",
          "data": {
            "text/plain": [
              "array([[0.2       , 0.33333333],\n",
              "       [0.42857143, 0.5       ]])"
            ]
          },
          "metadata": {},
          "execution_count": 24
        }
      ],
      "source": [
        "# Divisão\n",
        "x / y"
      ]
    },
    {
      "cell_type": "markdown",
      "metadata": {
        "id": "IW6xN9d7vb4e"
      },
      "source": [
        "- Operações nos elementos de um array\n",
        "\n"
      ]
    },
    {
      "cell_type": "code",
      "execution_count": null,
      "metadata": {
        "ExecuteTime": {
          "end_time": "2020-12-24T20:52:17.064864Z",
          "start_time": "2020-12-24T20:52:17.061847Z"
        },
        "id": "bullAK46vb4f",
        "colab": {
          "base_uri": "https://localhost:8080/"
        },
        "outputId": "2f5f026e-8ae6-4ad7-e04d-f66b7907bc0c"
      },
      "outputs": [
        {
          "output_type": "stream",
          "name": "stdout",
          "text": [
            "[[1 2]\n",
            " [3 4]]\n"
          ]
        }
      ],
      "source": [
        "x = np.array([[1,2], [3,4]])\n",
        "print(x)"
      ]
    },
    {
      "cell_type": "code",
      "execution_count": null,
      "metadata": {
        "ExecuteTime": {
          "end_time": "2020-12-24T20:52:17.733571Z",
          "start_time": "2020-12-24T20:52:17.730818Z"
        },
        "id": "7TWdWdzFvb4g",
        "colab": {
          "base_uri": "https://localhost:8080/"
        },
        "outputId": "232d1395-6d4a-4666-f932-ed83fc8aa7cd"
      },
      "outputs": [
        {
          "output_type": "execute_result",
          "data": {
            "text/plain": [
              "10"
            ]
          },
          "metadata": {},
          "execution_count": 26
        }
      ],
      "source": [
        "np.sum(x)"
      ]
    },
    {
      "cell_type": "code",
      "execution_count": null,
      "metadata": {
        "ExecuteTime": {
          "end_time": "2020-12-24T14:09:05.756008Z",
          "start_time": "2020-12-24T14:09:05.753025Z"
        },
        "id": "CokboQ2Pvb4i",
        "colab": {
          "base_uri": "https://localhost:8080/"
        },
        "outputId": "512a5e1a-9033-4575-ff5c-00a0f318f2b9"
      },
      "outputs": [
        {
          "output_type": "execute_result",
          "data": {
            "text/plain": [
              "array([4, 6])"
            ]
          },
          "metadata": {},
          "execution_count": 27
        }
      ],
      "source": [
        "# soma colunas\n",
        "np.sum(x, axis=0)"
      ]
    },
    {
      "cell_type": "code",
      "execution_count": null,
      "metadata": {
        "ExecuteTime": {
          "end_time": "2020-12-24T14:09:22.166695Z",
          "start_time": "2020-12-24T14:09:22.163414Z"
        },
        "id": "TxU-qub4vb4j",
        "colab": {
          "base_uri": "https://localhost:8080/"
        },
        "outputId": "73733127-0876-44d7-fd88-fad84bd1de32"
      },
      "outputs": [
        {
          "output_type": "execute_result",
          "data": {
            "text/plain": [
              "array([3, 7])"
            ]
          },
          "metadata": {},
          "execution_count": 28
        }
      ],
      "source": [
        "# soma linhas\n",
        "np.sum(x, axis=1)"
      ]
    },
    {
      "cell_type": "code",
      "execution_count": null,
      "metadata": {
        "ExecuteTime": {
          "end_time": "2020-12-24T14:08:12.969623Z",
          "start_time": "2020-12-24T14:08:12.966823Z"
        },
        "id": "QHmDg7rDvb4l",
        "colab": {
          "base_uri": "https://localhost:8080/"
        },
        "outputId": "1d3ac53b-1e25-4268-b9f5-4bc93d46b673"
      },
      "outputs": [
        {
          "output_type": "execute_result",
          "data": {
            "text/plain": [
              "array([[1, 3],\n",
              "       [2, 4]])"
            ]
          },
          "metadata": {},
          "execution_count": 29
        }
      ],
      "source": [
        "# transposta\n",
        "x.T"
      ]
    },
    {
      "cell_type": "code",
      "execution_count": null,
      "metadata": {
        "id": "kQRihARbvb4o"
      },
      "outputs": [],
      "source": []
    },
    {
      "cell_type": "markdown",
      "metadata": {
        "id": "sIn__bpKvb4p"
      },
      "source": [
        "- Reshaping\n",
        "\n",
        "![https://backtobazics.com/wp-content/uploads/2018/08/numpy-reshape-examples.jpg](https://backtobazics.com/wp-content/uploads/2018/08/numpy-reshape-examples.jpg)"
      ]
    },
    {
      "cell_type": "code",
      "execution_count": null,
      "metadata": {
        "ExecuteTime": {
          "end_time": "2020-12-24T14:13:05.250166Z",
          "start_time": "2020-12-24T14:13:05.247398Z"
        },
        "id": "mTZvID7hvb4q",
        "colab": {
          "base_uri": "https://localhost:8080/"
        },
        "outputId": "753a511e-f945-4681-bbc2-7fc5c80169dc"
      },
      "outputs": [
        {
          "output_type": "stream",
          "name": "stdout",
          "text": [
            "array : \n",
            " [0 1 2 3 4 5 6 7]\n"
          ]
        }
      ],
      "source": [
        "array = np.arange(8) \n",
        "print(\"array : \\n\", array) "
      ]
    },
    {
      "cell_type": "code",
      "execution_count": null,
      "metadata": {
        "ExecuteTime": {
          "end_time": "2020-12-24T14:13:05.704440Z",
          "start_time": "2020-12-24T14:13:05.701453Z"
        },
        "id": "zGxRNbIrvb4r",
        "colab": {
          "base_uri": "https://localhost:8080/"
        },
        "outputId": "5d20c4c7-2f49-4446-d290-ba335a13140c"
      },
      "outputs": [
        {
          "output_type": "stream",
          "name": "stdout",
          "text": [
            "\n",
            "reshaped 2x4: \n",
            " [[0 1 2 3]\n",
            " [4 5 6 7]]\n"
          ]
        }
      ],
      "source": [
        "array = np.arange(8).reshape(2, 4)\n",
        "print(\"\\nreshaped 2x4: \\n\", array)"
      ]
    },
    {
      "cell_type": "code",
      "execution_count": null,
      "metadata": {
        "ExecuteTime": {
          "end_time": "2020-12-24T14:13:06.406032Z",
          "start_time": "2020-12-24T14:13:06.402911Z"
        },
        "id": "I34Acmayvb4s",
        "colab": {
          "base_uri": "https://localhost:8080/"
        },
        "outputId": "c2353ab4-8afa-492c-eac3-813bdea7b357"
      },
      "outputs": [
        {
          "output_type": "stream",
          "name": "stdout",
          "text": [
            "\n",
            "reshaped 4x2 : \n",
            " [[0 1]\n",
            " [2 3]\n",
            " [4 5]\n",
            " [6 7]]\n"
          ]
        }
      ],
      "source": [
        "array = np.arange(8).reshape(4, 2)\n",
        "print(\"\\nreshaped 4x2 : \\n\", array)"
      ]
    },
    {
      "cell_type": "code",
      "execution_count": null,
      "metadata": {
        "ExecuteTime": {
          "end_time": "2020-12-24T14:13:06.794011Z",
          "start_time": "2020-12-24T14:13:06.790670Z"
        },
        "id": "K8FjJgh6vb4t",
        "colab": {
          "base_uri": "https://localhost:8080/"
        },
        "outputId": "4a1216bd-eb72-4fad-f752-03af61a3372a"
      },
      "outputs": [
        {
          "output_type": "stream",
          "name": "stdout",
          "text": [
            "\n",
            "reshaped 3D : \n",
            " [[[0 1]\n",
            "  [2 3]]\n",
            "\n",
            " [[4 5]\n",
            "  [6 7]]]\n"
          ]
        }
      ],
      "source": [
        "array = np.arange(8).reshape(2, 2, 2) \n",
        "print(\"\\nreshaped 3D : \\n\", array)"
      ]
    },
    {
      "cell_type": "markdown",
      "metadata": {
        "id": "GT4JbkEMvb4v"
      },
      "source": [
        "### Os arrays numpy são mais rápidos"
      ]
    },
    {
      "cell_type": "code",
      "execution_count": null,
      "metadata": {
        "ExecuteTime": {
          "end_time": "2020-12-28T16:09:12.863834Z",
          "start_time": "2020-12-28T16:09:11.027858Z"
        },
        "id": "N-4C3sABvb4v",
        "colab": {
          "base_uri": "https://localhost:8080/"
        },
        "outputId": "bc75f049-39b3-4b84-9a9b-d916c380f46e"
      },
      "outputs": [
        {
          "output_type": "stream",
          "name": "stdout",
          "text": [
            "300 µs ± 6.96 µs per loop (mean ± std. dev. of 7 runs, 1000 loops each)\n"
          ]
        }
      ],
      "source": [
        "L = range(1000)\n",
        "%timeit [i**2 for i in L]"
      ]
    },
    {
      "cell_type": "code",
      "execution_count": null,
      "metadata": {
        "ExecuteTime": {
          "end_time": "2020-12-28T16:09:38.572036Z",
          "start_time": "2020-12-28T16:09:32.224968Z"
        },
        "id": "KiLU0xpIvb4w",
        "colab": {
          "base_uri": "https://localhost:8080/"
        },
        "outputId": "54dc859e-5d08-4dfc-d7a2-8404e425250c"
      },
      "outputs": [
        {
          "output_type": "stream",
          "name": "stdout",
          "text": [
            "1.46 µs ± 410 ns per loop (mean ± std. dev. of 7 runs, 1000000 loops each)\n"
          ]
        }
      ],
      "source": [
        "a = np.arange(1000)\n",
        "%timeit a**2"
      ]
    },
    {
      "cell_type": "markdown",
      "metadata": {
        "id": "4x0YbUsSvb4x"
      },
      "source": [
        "### Criando arrays com funções da Numpy"
      ]
    },
    {
      "cell_type": "code",
      "execution_count": null,
      "metadata": {
        "ExecuteTime": {
          "end_time": "2021-01-03T01:49:59.132043Z",
          "start_time": "2021-01-03T01:49:59.126599Z"
        },
        "id": "WkUVUzCBvb4z"
      },
      "outputs": [],
      "source": [
        "# criar um range\n",
        "x = np.arange(0, 10, 1) #start, stop, step\n",
        "print(x)"
      ]
    },
    {
      "cell_type": "code",
      "execution_count": null,
      "metadata": {
        "ExecuteTime": {
          "end_time": "2021-01-03T01:50:17.702478Z",
          "start_time": "2021-01-03T01:50:17.696221Z"
        },
        "id": "sIJeTzRovb41"
      },
      "outputs": [],
      "source": [
        "x = np.arange(-1, 1, 0.1)\n",
        "print(x)"
      ]
    },
    {
      "cell_type": "code",
      "execution_count": null,
      "metadata": {
        "ExecuteTime": {
          "end_time": "2021-01-03T01:52:41.835132Z",
          "start_time": "2021-01-03T01:52:41.820254Z"
        },
        "id": "xN26lgPovb44"
      },
      "outputs": [],
      "source": [
        "# linspace (neste caso, os extremos são incluídos)\n",
        "np.linspace(0, 10, 25)"
      ]
    },
    {
      "cell_type": "code",
      "execution_count": null,
      "metadata": {
        "ExecuteTime": {
          "end_time": "2021-01-03T01:53:03.500208Z",
          "start_time": "2021-01-03T01:53:03.495288Z"
        },
        "id": "EYhAnyvyvb45"
      },
      "outputs": [],
      "source": [
        "np.logspace(0, 10, 10, base=np.e)"
      ]
    },
    {
      "cell_type": "markdown",
      "metadata": {
        "id": "HFtPCNKpvb47"
      },
      "source": [
        "## Bibliotecas Pandas\n",
        "\n",
        "- Oferece estruturas de dados de alto nível e funções projetadas para que o trabalho com dados *estruturados* ou *tabulares* seja rápido, fácil e expressivo\n",
        "- É uma das bibliotecas mais populares de Python\n",
        "- Suas principais estruturas de dados são: \n",
        "    - *Series* - um objeto array unidimensional com rótulo\n",
        "    - *DataFrame* - uma estrutura de dados tabular, orientada a colunas, com rótulos tanto para linhas quanto para colunas\n",
        "    \n",
        "- Enquanto que a biblioteca Numpy foi projetada para trabalhar com dados numéricos homogêneos em arrays, Pandas foi projetada para trabalhar com dados tabulares e heterogêneos\n",
        "\n",
        "- Importação: `import pandas as pd`"
      ]
    },
    {
      "cell_type": "markdown",
      "metadata": {
        "id": "nx-U8Pakvb48"
      },
      "source": [
        "**Pandas Series** \n",
        "\n",
        "- É um objeto do tipo array unidimensional contendo uma sequência de valores e um array associado de rótulos chamado de *índice*\n",
        "- Pandas Series serão as colunas de um Pandas DataFrame"
      ]
    },
    {
      "cell_type": "code",
      "execution_count": null,
      "metadata": {
        "ExecuteTime": {
          "end_time": "2020-12-24T15:20:00.270839Z",
          "start_time": "2020-12-24T15:19:51.202921Z"
        },
        "id": "xZAC33w9vb49",
        "colab": {
          "base_uri": "https://localhost:8080/"
        },
        "outputId": "755fd09f-9395-47e7-8e4c-f8d1f20364af"
      },
      "outputs": [
        {
          "output_type": "stream",
          "name": "stdout",
          "text": [
            "0    4\n",
            "1    7\n",
            "2   -5\n",
            "3    3\n",
            "dtype: int64\n"
          ]
        }
      ],
      "source": [
        "import pandas as pd\n",
        "obj = pd.Series([4, 7, -5, 3])\n",
        "print(obj)"
      ]
    },
    {
      "cell_type": "code",
      "execution_count": null,
      "metadata": {
        "ExecuteTime": {
          "end_time": "2020-12-24T15:20:58.176193Z",
          "start_time": "2020-12-24T15:20:58.171054Z"
        },
        "id": "3zY7PwiVvb4_",
        "colab": {
          "base_uri": "https://localhost:8080/"
        },
        "outputId": "a6c580bc-25b2-41dd-a136-5f3452187752"
      },
      "outputs": [
        {
          "output_type": "execute_result",
          "data": {
            "text/plain": [
              "array([ 4,  7, -5,  3])"
            ]
          },
          "metadata": {},
          "execution_count": 37
        }
      ],
      "source": [
        "# array de valores\n",
        "obj.values"
      ]
    },
    {
      "cell_type": "code",
      "execution_count": null,
      "metadata": {
        "ExecuteTime": {
          "end_time": "2020-12-24T21:24:16.776132Z",
          "start_time": "2020-12-24T21:24:16.763419Z"
        },
        "id": "WQki2FGUvb5A",
        "colab": {
          "base_uri": "https://localhost:8080/"
        },
        "outputId": "f6ae5e37-9506-4ddf-cafb-0d63e4be9d3b"
      },
      "outputs": [
        {
          "output_type": "execute_result",
          "data": {
            "text/plain": [
              "RangeIndex(start=0, stop=4, step=1)"
            ]
          },
          "metadata": {},
          "execution_count": 38
        }
      ],
      "source": [
        "# array de rótulos\n",
        "obj.index"
      ]
    },
    {
      "cell_type": "markdown",
      "metadata": {
        "id": "tzX14kOUvb5C"
      },
      "source": [
        "- É possível criar uma Series com um índice que identifique cada ponto de dado com um rótulo"
      ]
    },
    {
      "cell_type": "code",
      "execution_count": null,
      "metadata": {
        "ExecuteTime": {
          "end_time": "2020-12-24T15:21:49.564882Z",
          "start_time": "2020-12-24T15:21:49.561690Z"
        },
        "id": "wR4BYE6Svb5E"
      },
      "outputs": [],
      "source": [
        "obj2 = pd.Series([4, 7, -5, 3], index=['d', 'b', 'a', 'c'])"
      ]
    },
    {
      "cell_type": "markdown",
      "metadata": {
        "id": "BVk5JG9_vb5J"
      },
      "source": [
        "- Obtendo os dados de uma série"
      ]
    },
    {
      "cell_type": "code",
      "execution_count": null,
      "metadata": {
        "ExecuteTime": {
          "end_time": "2020-12-24T15:22:14.782065Z",
          "start_time": "2020-12-24T15:22:14.778423Z"
        },
        "id": "LkZvrc3svb5K",
        "colab": {
          "base_uri": "https://localhost:8080/"
        },
        "outputId": "b25c0bf9-3fd0-45c9-efd0-8069fd2060f7"
      },
      "outputs": [
        {
          "output_type": "execute_result",
          "data": {
            "text/plain": [
              "d    4\n",
              "b    7\n",
              "a   -5\n",
              "c    3\n",
              "dtype: int64"
            ]
          },
          "metadata": {},
          "execution_count": 40
        }
      ],
      "source": [
        "obj2"
      ]
    },
    {
      "cell_type": "code",
      "execution_count": null,
      "metadata": {
        "ExecuteTime": {
          "end_time": "2020-12-24T15:22:20.792008Z",
          "start_time": "2020-12-24T15:22:20.788338Z"
        },
        "id": "-bI8NYRrvb5M",
        "colab": {
          "base_uri": "https://localhost:8080/"
        },
        "outputId": "827e9d70-1a67-4193-9236-1b58e9f212a5"
      },
      "outputs": [
        {
          "output_type": "execute_result",
          "data": {
            "text/plain": [
              "-5"
            ]
          },
          "metadata": {},
          "execution_count": 42
        }
      ],
      "source": [
        "obj2[\"a\"]"
      ]
    },
    {
      "cell_type": "code",
      "execution_count": null,
      "metadata": {
        "id": "sRzqfNdVvb5N",
        "colab": {
          "base_uri": "https://localhost:8080/"
        },
        "outputId": "342f696c-dbe5-4447-cecf-0628bdf3c66b"
      },
      "outputs": [
        {
          "output_type": "execute_result",
          "data": {
            "text/plain": [
              "d     True\n",
              "b     True\n",
              "a    False\n",
              "c     True\n",
              "dtype: bool"
            ]
          },
          "metadata": {},
          "execution_count": 43
        }
      ],
      "source": [
        "obj2 > 0"
      ]
    },
    {
      "cell_type": "code",
      "execution_count": null,
      "metadata": {
        "ExecuteTime": {
          "end_time": "2020-12-24T15:22:46.147398Z",
          "start_time": "2020-12-24T15:22:46.142539Z"
        },
        "id": "JSbXRqMGvb5O",
        "colab": {
          "base_uri": "https://localhost:8080/"
        },
        "outputId": "7db93d96-bb49-4845-b993-d360ed79628c"
      },
      "outputs": [
        {
          "output_type": "execute_result",
          "data": {
            "text/plain": [
              "d    4\n",
              "b    7\n",
              "c    3\n",
              "dtype: int64"
            ]
          },
          "metadata": {},
          "execution_count": 44
        }
      ],
      "source": [
        "# filtro\n",
        "obj2[ obj2 > 0 ]"
      ]
    },
    {
      "cell_type": "markdown",
      "metadata": {
        "id": "ojPmW6C4vb5P"
      },
      "source": [
        "Outra forma de pensar em uma Series é como um dicionário ordenado de tamanho fixo, como se fosse um mapeamento entre valores de índice e valores de dados"
      ]
    },
    {
      "cell_type": "code",
      "execution_count": null,
      "metadata": {
        "ExecuteTime": {
          "end_time": "2020-12-24T15:23:56.598986Z",
          "start_time": "2020-12-24T15:23:56.596451Z"
        },
        "id": "HSOrCo_Zvb5Q"
      },
      "outputs": [],
      "source": [
        "sdata = {'Ohio': 35000, 'Texas': 71000, 'Oregon': 16000, 'Utah': 5000}"
      ]
    },
    {
      "cell_type": "code",
      "execution_count": null,
      "metadata": {
        "ExecuteTime": {
          "end_time": "2020-12-24T15:24:03.847737Z",
          "start_time": "2020-12-24T15:24:03.844811Z"
        },
        "id": "RaJHLoZwvb5Q"
      },
      "outputs": [],
      "source": [
        "obj3 = pd.Series(sdata)"
      ]
    },
    {
      "cell_type": "code",
      "execution_count": null,
      "metadata": {
        "ExecuteTime": {
          "end_time": "2020-12-24T15:24:07.538900Z",
          "start_time": "2020-12-24T15:24:07.534921Z"
        },
        "id": "lDhqkLOrvb5R",
        "colab": {
          "base_uri": "https://localhost:8080/"
        },
        "outputId": "4eb4f411-3bbe-4bbf-b43e-cb6517d19095"
      },
      "outputs": [
        {
          "output_type": "execute_result",
          "data": {
            "text/plain": [
              "Ohio      35000\n",
              "Texas     71000\n",
              "Oregon    16000\n",
              "Utah       5000\n",
              "dtype: int64"
            ]
          },
          "metadata": {},
          "execution_count": 47
        }
      ],
      "source": [
        "obj3"
      ]
    },
    {
      "cell_type": "code",
      "execution_count": null,
      "metadata": {
        "id": "GSikw9Ntvb5S",
        "colab": {
          "base_uri": "https://localhost:8080/"
        },
        "outputId": "a18ec325-533d-4092-d331-e309e2d52ad5"
      },
      "outputs": [
        {
          "output_type": "execute_result",
          "data": {
            "text/plain": [
              "array([35000, 71000, 16000,  5000])"
            ]
          },
          "metadata": {},
          "execution_count": 48
        }
      ],
      "source": [
        "obj3.values"
      ]
    },
    {
      "cell_type": "code",
      "source": [
        "obj3.index"
      ],
      "metadata": {
        "colab": {
          "base_uri": "https://localhost:8080/"
        },
        "id": "jmvXTdCnmvEa",
        "outputId": "49936778-2385-4779-c177-6eaf909d6df7"
      },
      "execution_count": null,
      "outputs": [
        {
          "output_type": "execute_result",
          "data": {
            "text/plain": [
              "Index(['Ohio', 'Texas', 'Oregon', 'Utah'], dtype='object')"
            ]
          },
          "metadata": {},
          "execution_count": 49
        }
      ]
    },
    {
      "cell_type": "markdown",
      "metadata": {
        "id": "ew0Qfp1evb5U"
      },
      "source": [
        "**DataFrames**\n",
        "\n",
        "É possível criar um dataframe a partir de Series"
      ]
    },
    {
      "cell_type": "code",
      "execution_count": null,
      "metadata": {
        "ExecuteTime": {
          "end_time": "2020-12-24T15:43:27.780065Z",
          "start_time": "2020-12-24T15:43:27.776265Z"
        },
        "id": "qYK6uknBvb5V",
        "colab": {
          "base_uri": "https://localhost:8080/"
        },
        "outputId": "cbd11e2d-0807-42dc-aee0-3cd534498ed6"
      },
      "outputs": [
        {
          "output_type": "stream",
          "name": "stdout",
          "text": [
            "a    1\n",
            "b    2\n",
            "c    3\n",
            "d    4\n",
            "e    5\n",
            "dtype: int64\n"
          ]
        }
      ],
      "source": [
        "ser1 = pd.Series([1,2,3,4,5], index=list('abcde'))\n",
        "print(ser1)"
      ]
    },
    {
      "cell_type": "code",
      "execution_count": null,
      "metadata": {
        "ExecuteTime": {
          "end_time": "2020-12-24T15:43:56.024854Z",
          "start_time": "2020-12-24T15:43:56.021242Z"
        },
        "id": "2EZC-c3Avb5V",
        "colab": {
          "base_uri": "https://localhost:8080/"
        },
        "outputId": "fa514c60-ef15-4505-8cee-6d90408dd814"
      },
      "outputs": [
        {
          "output_type": "stream",
          "name": "stdout",
          "text": [
            "a    11\n",
            "b    22\n",
            "c    33\n",
            "d    44\n",
            "e    55\n",
            "dtype: int64\n"
          ]
        }
      ],
      "source": [
        "ser2 = pd.Series([11,22,33,44,55], index=list('abcde'))\n",
        "print(ser2)"
      ]
    },
    {
      "cell_type": "code",
      "execution_count": null,
      "metadata": {
        "ExecuteTime": {
          "end_time": "2020-12-24T15:44:11.880368Z",
          "start_time": "2020-12-24T15:44:11.877397Z"
        },
        "id": "R4ji56smvb5X"
      },
      "outputs": [],
      "source": [
        "# O dataframe é uma sequência de séries \n",
        "df = pd.DataFrame( {\"A\": ser1, \"B\": ser2} )"
      ]
    },
    {
      "cell_type": "code",
      "execution_count": null,
      "metadata": {
        "ExecuteTime": {
          "end_time": "2020-12-24T15:44:14.558116Z",
          "start_time": "2020-12-24T15:44:14.546076Z"
        },
        "id": "a098bFCsvb5Y",
        "colab": {
          "base_uri": "https://localhost:8080/",
          "height": 206
        },
        "outputId": "7b04f342-db50-4ed2-d79f-cab68d835531"
      },
      "outputs": [
        {
          "output_type": "execute_result",
          "data": {
            "text/plain": [
              "   A   B\n",
              "a  1  11\n",
              "b  2  22\n",
              "c  3  33\n",
              "d  4  44\n",
              "e  5  55"
            ],
            "text/html": [
              "\n",
              "  <div id=\"df-c089a98a-034b-49ed-a0a4-f9df5fbc70d6\">\n",
              "    <div class=\"colab-df-container\">\n",
              "      <div>\n",
              "<style scoped>\n",
              "    .dataframe tbody tr th:only-of-type {\n",
              "        vertical-align: middle;\n",
              "    }\n",
              "\n",
              "    .dataframe tbody tr th {\n",
              "        vertical-align: top;\n",
              "    }\n",
              "\n",
              "    .dataframe thead th {\n",
              "        text-align: right;\n",
              "    }\n",
              "</style>\n",
              "<table border=\"1\" class=\"dataframe\">\n",
              "  <thead>\n",
              "    <tr style=\"text-align: right;\">\n",
              "      <th></th>\n",
              "      <th>A</th>\n",
              "      <th>B</th>\n",
              "    </tr>\n",
              "  </thead>\n",
              "  <tbody>\n",
              "    <tr>\n",
              "      <th>a</th>\n",
              "      <td>1</td>\n",
              "      <td>11</td>\n",
              "    </tr>\n",
              "    <tr>\n",
              "      <th>b</th>\n",
              "      <td>2</td>\n",
              "      <td>22</td>\n",
              "    </tr>\n",
              "    <tr>\n",
              "      <th>c</th>\n",
              "      <td>3</td>\n",
              "      <td>33</td>\n",
              "    </tr>\n",
              "    <tr>\n",
              "      <th>d</th>\n",
              "      <td>4</td>\n",
              "      <td>44</td>\n",
              "    </tr>\n",
              "    <tr>\n",
              "      <th>e</th>\n",
              "      <td>5</td>\n",
              "      <td>55</td>\n",
              "    </tr>\n",
              "  </tbody>\n",
              "</table>\n",
              "</div>\n",
              "      <button class=\"colab-df-convert\" onclick=\"convertToInteractive('df-c089a98a-034b-49ed-a0a4-f9df5fbc70d6')\"\n",
              "              title=\"Convert this dataframe to an interactive table.\"\n",
              "              style=\"display:none;\">\n",
              "        \n",
              "  <svg xmlns=\"http://www.w3.org/2000/svg\" height=\"24px\"viewBox=\"0 0 24 24\"\n",
              "       width=\"24px\">\n",
              "    <path d=\"M0 0h24v24H0V0z\" fill=\"none\"/>\n",
              "    <path d=\"M18.56 5.44l.94 2.06.94-2.06 2.06-.94-2.06-.94-.94-2.06-.94 2.06-2.06.94zm-11 1L8.5 8.5l.94-2.06 2.06-.94-2.06-.94L8.5 2.5l-.94 2.06-2.06.94zm10 10l.94 2.06.94-2.06 2.06-.94-2.06-.94-.94-2.06-.94 2.06-2.06.94z\"/><path d=\"M17.41 7.96l-1.37-1.37c-.4-.4-.92-.59-1.43-.59-.52 0-1.04.2-1.43.59L10.3 9.45l-7.72 7.72c-.78.78-.78 2.05 0 2.83L4 21.41c.39.39.9.59 1.41.59.51 0 1.02-.2 1.41-.59l7.78-7.78 2.81-2.81c.8-.78.8-2.07 0-2.86zM5.41 20L4 18.59l7.72-7.72 1.47 1.35L5.41 20z\"/>\n",
              "  </svg>\n",
              "      </button>\n",
              "      \n",
              "  <style>\n",
              "    .colab-df-container {\n",
              "      display:flex;\n",
              "      flex-wrap:wrap;\n",
              "      gap: 12px;\n",
              "    }\n",
              "\n",
              "    .colab-df-convert {\n",
              "      background-color: #E8F0FE;\n",
              "      border: none;\n",
              "      border-radius: 50%;\n",
              "      cursor: pointer;\n",
              "      display: none;\n",
              "      fill: #1967D2;\n",
              "      height: 32px;\n",
              "      padding: 0 0 0 0;\n",
              "      width: 32px;\n",
              "    }\n",
              "\n",
              "    .colab-df-convert:hover {\n",
              "      background-color: #E2EBFA;\n",
              "      box-shadow: 0px 1px 2px rgba(60, 64, 67, 0.3), 0px 1px 3px 1px rgba(60, 64, 67, 0.15);\n",
              "      fill: #174EA6;\n",
              "    }\n",
              "\n",
              "    [theme=dark] .colab-df-convert {\n",
              "      background-color: #3B4455;\n",
              "      fill: #D2E3FC;\n",
              "    }\n",
              "\n",
              "    [theme=dark] .colab-df-convert:hover {\n",
              "      background-color: #434B5C;\n",
              "      box-shadow: 0px 1px 3px 1px rgba(0, 0, 0, 0.15);\n",
              "      filter: drop-shadow(0px 1px 2px rgba(0, 0, 0, 0.3));\n",
              "      fill: #FFFFFF;\n",
              "    }\n",
              "  </style>\n",
              "\n",
              "      <script>\n",
              "        const buttonEl =\n",
              "          document.querySelector('#df-c089a98a-034b-49ed-a0a4-f9df5fbc70d6 button.colab-df-convert');\n",
              "        buttonEl.style.display =\n",
              "          google.colab.kernel.accessAllowed ? 'block' : 'none';\n",
              "\n",
              "        async function convertToInteractive(key) {\n",
              "          const element = document.querySelector('#df-c089a98a-034b-49ed-a0a4-f9df5fbc70d6');\n",
              "          const dataTable =\n",
              "            await google.colab.kernel.invokeFunction('convertToInteractive',\n",
              "                                                     [key], {});\n",
              "          if (!dataTable) return;\n",
              "\n",
              "          const docLinkHtml = 'Like what you see? Visit the ' +\n",
              "            '<a target=\"_blank\" href=https://colab.research.google.com/notebooks/data_table.ipynb>data table notebook</a>'\n",
              "            + ' to learn more about interactive tables.';\n",
              "          element.innerHTML = '';\n",
              "          dataTable['output_type'] = 'display_data';\n",
              "          await google.colab.output.renderOutput(dataTable, element);\n",
              "          const docLink = document.createElement('div');\n",
              "          docLink.innerHTML = docLinkHtml;\n",
              "          element.appendChild(docLink);\n",
              "        }\n",
              "      </script>\n",
              "    </div>\n",
              "  </div>\n",
              "  "
            ]
          },
          "metadata": {},
          "execution_count": 53
        }
      ],
      "source": [
        "df"
      ]
    },
    {
      "cell_type": "code",
      "execution_count": null,
      "metadata": {
        "id": "4Abv9ROUvb5Z",
        "colab": {
          "base_uri": "https://localhost:8080/"
        },
        "outputId": "97640b52-6a5c-4197-9aa9-b4ec0a02feef"
      },
      "outputs": [
        {
          "output_type": "execute_result",
          "data": {
            "text/plain": [
              "Index(['a', 'b', 'c', 'd', 'e'], dtype='object')"
            ]
          },
          "metadata": {},
          "execution_count": 54
        }
      ],
      "source": [
        "df.index"
      ]
    },
    {
      "cell_type": "code",
      "execution_count": null,
      "metadata": {
        "id": "97tMuRbnvb5Z",
        "colab": {
          "base_uri": "https://localhost:8080/"
        },
        "outputId": "b0bd6b41-a70d-48ac-a5bd-0aeeb9760c4a"
      },
      "outputs": [
        {
          "output_type": "execute_result",
          "data": {
            "text/plain": [
              "Index(['A', 'B'], dtype='object')"
            ]
          },
          "metadata": {},
          "execution_count": 55
        }
      ],
      "source": [
        "df.columns"
      ]
    },
    {
      "cell_type": "code",
      "execution_count": null,
      "metadata": {
        "ExecuteTime": {
          "end_time": "2020-12-24T15:45:46.666047Z",
          "start_time": "2020-12-24T15:45:46.662007Z"
        },
        "id": "sqlJVVSXvb5b",
        "colab": {
          "base_uri": "https://localhost:8080/"
        },
        "outputId": "046d5219-39d6-4443-e111-9c143013f9ce"
      },
      "outputs": [
        {
          "output_type": "execute_result",
          "data": {
            "text/plain": [
              "a    1\n",
              "b    2\n",
              "c    3\n",
              "d    4\n",
              "e    5\n",
              "Name: A, dtype: int64"
            ]
          },
          "metadata": {},
          "execution_count": 56
        }
      ],
      "source": [
        "df[\"A\"]"
      ]
    },
    {
      "cell_type": "code",
      "execution_count": null,
      "metadata": {
        "id": "BA3g_Mokvb5c",
        "colab": {
          "base_uri": "https://localhost:8080/"
        },
        "outputId": "093daef5-d046-43d4-cc5a-46ca1590ade3"
      },
      "outputs": [
        {
          "output_type": "execute_result",
          "data": {
            "text/plain": [
              "a    11\n",
              "b    22\n",
              "c    33\n",
              "d    44\n",
              "e    55\n",
              "Name: B, dtype: int64"
            ]
          },
          "metadata": {},
          "execution_count": 57
        }
      ],
      "source": [
        "df[\"B\"]"
      ]
    },
    {
      "cell_type": "code",
      "source": [
        "df[\"C\"] = df[\"A\"] * df[\"B\"]"
      ],
      "metadata": {
        "id": "m3hNZDqozB4i"
      },
      "execution_count": null,
      "outputs": []
    },
    {
      "cell_type": "code",
      "source": [
        "df"
      ],
      "metadata": {
        "colab": {
          "base_uri": "https://localhost:8080/",
          "height": 206
        },
        "id": "ZvPmGZ5bn34f",
        "outputId": "7368d7b1-2943-4a8a-e4e9-0451ad218cd3"
      },
      "execution_count": null,
      "outputs": [
        {
          "output_type": "execute_result",
          "data": {
            "text/plain": [
              "   A   B    C\n",
              "a  1  11   11\n",
              "b  2  22   44\n",
              "c  3  33   99\n",
              "d  4  44  176\n",
              "e  5  55  275"
            ],
            "text/html": [
              "\n",
              "  <div id=\"df-d9b9aecd-6b45-4847-a254-5867c8d6996a\">\n",
              "    <div class=\"colab-df-container\">\n",
              "      <div>\n",
              "<style scoped>\n",
              "    .dataframe tbody tr th:only-of-type {\n",
              "        vertical-align: middle;\n",
              "    }\n",
              "\n",
              "    .dataframe tbody tr th {\n",
              "        vertical-align: top;\n",
              "    }\n",
              "\n",
              "    .dataframe thead th {\n",
              "        text-align: right;\n",
              "    }\n",
              "</style>\n",
              "<table border=\"1\" class=\"dataframe\">\n",
              "  <thead>\n",
              "    <tr style=\"text-align: right;\">\n",
              "      <th></th>\n",
              "      <th>A</th>\n",
              "      <th>B</th>\n",
              "      <th>C</th>\n",
              "    </tr>\n",
              "  </thead>\n",
              "  <tbody>\n",
              "    <tr>\n",
              "      <th>a</th>\n",
              "      <td>1</td>\n",
              "      <td>11</td>\n",
              "      <td>11</td>\n",
              "    </tr>\n",
              "    <tr>\n",
              "      <th>b</th>\n",
              "      <td>2</td>\n",
              "      <td>22</td>\n",
              "      <td>44</td>\n",
              "    </tr>\n",
              "    <tr>\n",
              "      <th>c</th>\n",
              "      <td>3</td>\n",
              "      <td>33</td>\n",
              "      <td>99</td>\n",
              "    </tr>\n",
              "    <tr>\n",
              "      <th>d</th>\n",
              "      <td>4</td>\n",
              "      <td>44</td>\n",
              "      <td>176</td>\n",
              "    </tr>\n",
              "    <tr>\n",
              "      <th>e</th>\n",
              "      <td>5</td>\n",
              "      <td>55</td>\n",
              "      <td>275</td>\n",
              "    </tr>\n",
              "  </tbody>\n",
              "</table>\n",
              "</div>\n",
              "      <button class=\"colab-df-convert\" onclick=\"convertToInteractive('df-d9b9aecd-6b45-4847-a254-5867c8d6996a')\"\n",
              "              title=\"Convert this dataframe to an interactive table.\"\n",
              "              style=\"display:none;\">\n",
              "        \n",
              "  <svg xmlns=\"http://www.w3.org/2000/svg\" height=\"24px\"viewBox=\"0 0 24 24\"\n",
              "       width=\"24px\">\n",
              "    <path d=\"M0 0h24v24H0V0z\" fill=\"none\"/>\n",
              "    <path d=\"M18.56 5.44l.94 2.06.94-2.06 2.06-.94-2.06-.94-.94-2.06-.94 2.06-2.06.94zm-11 1L8.5 8.5l.94-2.06 2.06-.94-2.06-.94L8.5 2.5l-.94 2.06-2.06.94zm10 10l.94 2.06.94-2.06 2.06-.94-2.06-.94-.94-2.06-.94 2.06-2.06.94z\"/><path d=\"M17.41 7.96l-1.37-1.37c-.4-.4-.92-.59-1.43-.59-.52 0-1.04.2-1.43.59L10.3 9.45l-7.72 7.72c-.78.78-.78 2.05 0 2.83L4 21.41c.39.39.9.59 1.41.59.51 0 1.02-.2 1.41-.59l7.78-7.78 2.81-2.81c.8-.78.8-2.07 0-2.86zM5.41 20L4 18.59l7.72-7.72 1.47 1.35L5.41 20z\"/>\n",
              "  </svg>\n",
              "      </button>\n",
              "      \n",
              "  <style>\n",
              "    .colab-df-container {\n",
              "      display:flex;\n",
              "      flex-wrap:wrap;\n",
              "      gap: 12px;\n",
              "    }\n",
              "\n",
              "    .colab-df-convert {\n",
              "      background-color: #E8F0FE;\n",
              "      border: none;\n",
              "      border-radius: 50%;\n",
              "      cursor: pointer;\n",
              "      display: none;\n",
              "      fill: #1967D2;\n",
              "      height: 32px;\n",
              "      padding: 0 0 0 0;\n",
              "      width: 32px;\n",
              "    }\n",
              "\n",
              "    .colab-df-convert:hover {\n",
              "      background-color: #E2EBFA;\n",
              "      box-shadow: 0px 1px 2px rgba(60, 64, 67, 0.3), 0px 1px 3px 1px rgba(60, 64, 67, 0.15);\n",
              "      fill: #174EA6;\n",
              "    }\n",
              "\n",
              "    [theme=dark] .colab-df-convert {\n",
              "      background-color: #3B4455;\n",
              "      fill: #D2E3FC;\n",
              "    }\n",
              "\n",
              "    [theme=dark] .colab-df-convert:hover {\n",
              "      background-color: #434B5C;\n",
              "      box-shadow: 0px 1px 3px 1px rgba(0, 0, 0, 0.15);\n",
              "      filter: drop-shadow(0px 1px 2px rgba(0, 0, 0, 0.3));\n",
              "      fill: #FFFFFF;\n",
              "    }\n",
              "  </style>\n",
              "\n",
              "      <script>\n",
              "        const buttonEl =\n",
              "          document.querySelector('#df-d9b9aecd-6b45-4847-a254-5867c8d6996a button.colab-df-convert');\n",
              "        buttonEl.style.display =\n",
              "          google.colab.kernel.accessAllowed ? 'block' : 'none';\n",
              "\n",
              "        async function convertToInteractive(key) {\n",
              "          const element = document.querySelector('#df-d9b9aecd-6b45-4847-a254-5867c8d6996a');\n",
              "          const dataTable =\n",
              "            await google.colab.kernel.invokeFunction('convertToInteractive',\n",
              "                                                     [key], {});\n",
              "          if (!dataTable) return;\n",
              "\n",
              "          const docLinkHtml = 'Like what you see? Visit the ' +\n",
              "            '<a target=\"_blank\" href=https://colab.research.google.com/notebooks/data_table.ipynb>data table notebook</a>'\n",
              "            + ' to learn more about interactive tables.';\n",
              "          element.innerHTML = '';\n",
              "          dataTable['output_type'] = 'display_data';\n",
              "          await google.colab.output.renderOutput(dataTable, element);\n",
              "          const docLink = document.createElement('div');\n",
              "          docLink.innerHTML = docLinkHtml;\n",
              "          element.appendChild(docLink);\n",
              "        }\n",
              "      </script>\n",
              "    </div>\n",
              "  </div>\n",
              "  "
            ]
          },
          "metadata": {},
          "execution_count": 62
        }
      ]
    },
    {
      "cell_type": "code",
      "source": [
        "df = df[ [\"A\", \"C\", \"B\"] ]"
      ],
      "metadata": {
        "id": "k8zczPJFoJvm"
      },
      "execution_count": null,
      "outputs": []
    },
    {
      "cell_type": "code",
      "source": [
        "df"
      ],
      "metadata": {
        "colab": {
          "base_uri": "https://localhost:8080/",
          "height": 206
        },
        "id": "9fPOJCByoJ6m",
        "outputId": "fdcb4043-c27a-4646-f3ef-3b191d85d78e"
      },
      "execution_count": null,
      "outputs": [
        {
          "output_type": "execute_result",
          "data": {
            "text/plain": [
              "   A    C   B\n",
              "a  1   11  11\n",
              "b  2   44  22\n",
              "c  3   99  33\n",
              "d  4  176  44\n",
              "e  5  275  55"
            ],
            "text/html": [
              "\n",
              "  <div id=\"df-f13ee1c6-157e-4dca-8d9e-f6be3700a82c\">\n",
              "    <div class=\"colab-df-container\">\n",
              "      <div>\n",
              "<style scoped>\n",
              "    .dataframe tbody tr th:only-of-type {\n",
              "        vertical-align: middle;\n",
              "    }\n",
              "\n",
              "    .dataframe tbody tr th {\n",
              "        vertical-align: top;\n",
              "    }\n",
              "\n",
              "    .dataframe thead th {\n",
              "        text-align: right;\n",
              "    }\n",
              "</style>\n",
              "<table border=\"1\" class=\"dataframe\">\n",
              "  <thead>\n",
              "    <tr style=\"text-align: right;\">\n",
              "      <th></th>\n",
              "      <th>A</th>\n",
              "      <th>C</th>\n",
              "      <th>B</th>\n",
              "    </tr>\n",
              "  </thead>\n",
              "  <tbody>\n",
              "    <tr>\n",
              "      <th>a</th>\n",
              "      <td>1</td>\n",
              "      <td>11</td>\n",
              "      <td>11</td>\n",
              "    </tr>\n",
              "    <tr>\n",
              "      <th>b</th>\n",
              "      <td>2</td>\n",
              "      <td>44</td>\n",
              "      <td>22</td>\n",
              "    </tr>\n",
              "    <tr>\n",
              "      <th>c</th>\n",
              "      <td>3</td>\n",
              "      <td>99</td>\n",
              "      <td>33</td>\n",
              "    </tr>\n",
              "    <tr>\n",
              "      <th>d</th>\n",
              "      <td>4</td>\n",
              "      <td>176</td>\n",
              "      <td>44</td>\n",
              "    </tr>\n",
              "    <tr>\n",
              "      <th>e</th>\n",
              "      <td>5</td>\n",
              "      <td>275</td>\n",
              "      <td>55</td>\n",
              "    </tr>\n",
              "  </tbody>\n",
              "</table>\n",
              "</div>\n",
              "      <button class=\"colab-df-convert\" onclick=\"convertToInteractive('df-f13ee1c6-157e-4dca-8d9e-f6be3700a82c')\"\n",
              "              title=\"Convert this dataframe to an interactive table.\"\n",
              "              style=\"display:none;\">\n",
              "        \n",
              "  <svg xmlns=\"http://www.w3.org/2000/svg\" height=\"24px\"viewBox=\"0 0 24 24\"\n",
              "       width=\"24px\">\n",
              "    <path d=\"M0 0h24v24H0V0z\" fill=\"none\"/>\n",
              "    <path d=\"M18.56 5.44l.94 2.06.94-2.06 2.06-.94-2.06-.94-.94-2.06-.94 2.06-2.06.94zm-11 1L8.5 8.5l.94-2.06 2.06-.94-2.06-.94L8.5 2.5l-.94 2.06-2.06.94zm10 10l.94 2.06.94-2.06 2.06-.94-2.06-.94-.94-2.06-.94 2.06-2.06.94z\"/><path d=\"M17.41 7.96l-1.37-1.37c-.4-.4-.92-.59-1.43-.59-.52 0-1.04.2-1.43.59L10.3 9.45l-7.72 7.72c-.78.78-.78 2.05 0 2.83L4 21.41c.39.39.9.59 1.41.59.51 0 1.02-.2 1.41-.59l7.78-7.78 2.81-2.81c.8-.78.8-2.07 0-2.86zM5.41 20L4 18.59l7.72-7.72 1.47 1.35L5.41 20z\"/>\n",
              "  </svg>\n",
              "      </button>\n",
              "      \n",
              "  <style>\n",
              "    .colab-df-container {\n",
              "      display:flex;\n",
              "      flex-wrap:wrap;\n",
              "      gap: 12px;\n",
              "    }\n",
              "\n",
              "    .colab-df-convert {\n",
              "      background-color: #E8F0FE;\n",
              "      border: none;\n",
              "      border-radius: 50%;\n",
              "      cursor: pointer;\n",
              "      display: none;\n",
              "      fill: #1967D2;\n",
              "      height: 32px;\n",
              "      padding: 0 0 0 0;\n",
              "      width: 32px;\n",
              "    }\n",
              "\n",
              "    .colab-df-convert:hover {\n",
              "      background-color: #E2EBFA;\n",
              "      box-shadow: 0px 1px 2px rgba(60, 64, 67, 0.3), 0px 1px 3px 1px rgba(60, 64, 67, 0.15);\n",
              "      fill: #174EA6;\n",
              "    }\n",
              "\n",
              "    [theme=dark] .colab-df-convert {\n",
              "      background-color: #3B4455;\n",
              "      fill: #D2E3FC;\n",
              "    }\n",
              "\n",
              "    [theme=dark] .colab-df-convert:hover {\n",
              "      background-color: #434B5C;\n",
              "      box-shadow: 0px 1px 3px 1px rgba(0, 0, 0, 0.15);\n",
              "      filter: drop-shadow(0px 1px 2px rgba(0, 0, 0, 0.3));\n",
              "      fill: #FFFFFF;\n",
              "    }\n",
              "  </style>\n",
              "\n",
              "      <script>\n",
              "        const buttonEl =\n",
              "          document.querySelector('#df-f13ee1c6-157e-4dca-8d9e-f6be3700a82c button.colab-df-convert');\n",
              "        buttonEl.style.display =\n",
              "          google.colab.kernel.accessAllowed ? 'block' : 'none';\n",
              "\n",
              "        async function convertToInteractive(key) {\n",
              "          const element = document.querySelector('#df-f13ee1c6-157e-4dca-8d9e-f6be3700a82c');\n",
              "          const dataTable =\n",
              "            await google.colab.kernel.invokeFunction('convertToInteractive',\n",
              "                                                     [key], {});\n",
              "          if (!dataTable) return;\n",
              "\n",
              "          const docLinkHtml = 'Like what you see? Visit the ' +\n",
              "            '<a target=\"_blank\" href=https://colab.research.google.com/notebooks/data_table.ipynb>data table notebook</a>'\n",
              "            + ' to learn more about interactive tables.';\n",
              "          element.innerHTML = '';\n",
              "          dataTable['output_type'] = 'display_data';\n",
              "          await google.colab.output.renderOutput(dataTable, element);\n",
              "          const docLink = document.createElement('div');\n",
              "          docLink.innerHTML = docLinkHtml;\n",
              "          element.appendChild(docLink);\n",
              "        }\n",
              "      </script>\n",
              "    </div>\n",
              "  </div>\n",
              "  "
            ]
          },
          "metadata": {},
          "execution_count": 64
        }
      ]
    },
    {
      "cell_type": "markdown",
      "metadata": {
        "ExecuteTime": {
          "end_time": "2020-12-24T15:46:35.881412Z",
          "start_time": "2020-12-24T15:46:35.878147Z"
        },
        "id": "08w-4hc9vb5o"
      },
      "source": [
        "- Criando um dataframe do zero\n",
        "\n",
        "Considere as seguintes taxas de conversão entre as seguintes moedas:\n",
        "\n",
        "|     | USB  | EUR  | GBP  |\n",
        "|-----|------|------|------|\n",
        "| USD | 1.0  | 0.91 | 0.79 |\n",
        "| EUR | 1.1  | 1.0  | 0.87 |\n",
        "| GBP | 1.26 | 1.14 | 1.0  |\n",
        "\n",
        "\n",
        "Observando a tabela acima, temos:\n",
        "\n",
        "- Cada coluna dessa tabela é representada por uma **Series**\n",
        "- A tabela é armazenada como um **DataFrame**"
      ]
    },
    {
      "cell_type": "markdown",
      "metadata": {
        "id": "l8s2eXfVvb5p"
      },
      "source": [
        "Vamos criar este dataframe.\n",
        "\n"
      ]
    },
    {
      "cell_type": "code",
      "execution_count": null,
      "metadata": {
        "id": "64MY2i7Mvb5w",
        "colab": {
          "base_uri": "https://localhost:8080/",
          "height": 143
        },
        "outputId": "d7ab25b1-3faf-431d-ece2-a9965d8b3633"
      },
      "outputs": [
        {
          "output_type": "execute_result",
          "data": {
            "text/plain": [
              "      USD   EUR   GBP\n",
              "USD  1.00  0.91  0.79\n",
              "EUR  1.10  1.00  0.87\n",
              "GBP  1.26  1.14  1.00"
            ],
            "text/html": [
              "\n",
              "  <div id=\"df-b8e5b7e2-b66b-4c2c-90c9-5bd3b9d051e0\">\n",
              "    <div class=\"colab-df-container\">\n",
              "      <div>\n",
              "<style scoped>\n",
              "    .dataframe tbody tr th:only-of-type {\n",
              "        vertical-align: middle;\n",
              "    }\n",
              "\n",
              "    .dataframe tbody tr th {\n",
              "        vertical-align: top;\n",
              "    }\n",
              "\n",
              "    .dataframe thead th {\n",
              "        text-align: right;\n",
              "    }\n",
              "</style>\n",
              "<table border=\"1\" class=\"dataframe\">\n",
              "  <thead>\n",
              "    <tr style=\"text-align: right;\">\n",
              "      <th></th>\n",
              "      <th>USD</th>\n",
              "      <th>EUR</th>\n",
              "      <th>GBP</th>\n",
              "    </tr>\n",
              "  </thead>\n",
              "  <tbody>\n",
              "    <tr>\n",
              "      <th>USD</th>\n",
              "      <td>1.00</td>\n",
              "      <td>0.91</td>\n",
              "      <td>0.79</td>\n",
              "    </tr>\n",
              "    <tr>\n",
              "      <th>EUR</th>\n",
              "      <td>1.10</td>\n",
              "      <td>1.00</td>\n",
              "      <td>0.87</td>\n",
              "    </tr>\n",
              "    <tr>\n",
              "      <th>GBP</th>\n",
              "      <td>1.26</td>\n",
              "      <td>1.14</td>\n",
              "      <td>1.00</td>\n",
              "    </tr>\n",
              "  </tbody>\n",
              "</table>\n",
              "</div>\n",
              "      <button class=\"colab-df-convert\" onclick=\"convertToInteractive('df-b8e5b7e2-b66b-4c2c-90c9-5bd3b9d051e0')\"\n",
              "              title=\"Convert this dataframe to an interactive table.\"\n",
              "              style=\"display:none;\">\n",
              "        \n",
              "  <svg xmlns=\"http://www.w3.org/2000/svg\" height=\"24px\"viewBox=\"0 0 24 24\"\n",
              "       width=\"24px\">\n",
              "    <path d=\"M0 0h24v24H0V0z\" fill=\"none\"/>\n",
              "    <path d=\"M18.56 5.44l.94 2.06.94-2.06 2.06-.94-2.06-.94-.94-2.06-.94 2.06-2.06.94zm-11 1L8.5 8.5l.94-2.06 2.06-.94-2.06-.94L8.5 2.5l-.94 2.06-2.06.94zm10 10l.94 2.06.94-2.06 2.06-.94-2.06-.94-.94-2.06-.94 2.06-2.06.94z\"/><path d=\"M17.41 7.96l-1.37-1.37c-.4-.4-.92-.59-1.43-.59-.52 0-1.04.2-1.43.59L10.3 9.45l-7.72 7.72c-.78.78-.78 2.05 0 2.83L4 21.41c.39.39.9.59 1.41.59.51 0 1.02-.2 1.41-.59l7.78-7.78 2.81-2.81c.8-.78.8-2.07 0-2.86zM5.41 20L4 18.59l7.72-7.72 1.47 1.35L5.41 20z\"/>\n",
              "  </svg>\n",
              "      </button>\n",
              "      \n",
              "  <style>\n",
              "    .colab-df-container {\n",
              "      display:flex;\n",
              "      flex-wrap:wrap;\n",
              "      gap: 12px;\n",
              "    }\n",
              "\n",
              "    .colab-df-convert {\n",
              "      background-color: #E8F0FE;\n",
              "      border: none;\n",
              "      border-radius: 50%;\n",
              "      cursor: pointer;\n",
              "      display: none;\n",
              "      fill: #1967D2;\n",
              "      height: 32px;\n",
              "      padding: 0 0 0 0;\n",
              "      width: 32px;\n",
              "    }\n",
              "\n",
              "    .colab-df-convert:hover {\n",
              "      background-color: #E2EBFA;\n",
              "      box-shadow: 0px 1px 2px rgba(60, 64, 67, 0.3), 0px 1px 3px 1px rgba(60, 64, 67, 0.15);\n",
              "      fill: #174EA6;\n",
              "    }\n",
              "\n",
              "    [theme=dark] .colab-df-convert {\n",
              "      background-color: #3B4455;\n",
              "      fill: #D2E3FC;\n",
              "    }\n",
              "\n",
              "    [theme=dark] .colab-df-convert:hover {\n",
              "      background-color: #434B5C;\n",
              "      box-shadow: 0px 1px 3px 1px rgba(0, 0, 0, 0.15);\n",
              "      filter: drop-shadow(0px 1px 2px rgba(0, 0, 0, 0.3));\n",
              "      fill: #FFFFFF;\n",
              "    }\n",
              "  </style>\n",
              "\n",
              "      <script>\n",
              "        const buttonEl =\n",
              "          document.querySelector('#df-b8e5b7e2-b66b-4c2c-90c9-5bd3b9d051e0 button.colab-df-convert');\n",
              "        buttonEl.style.display =\n",
              "          google.colab.kernel.accessAllowed ? 'block' : 'none';\n",
              "\n",
              "        async function convertToInteractive(key) {\n",
              "          const element = document.querySelector('#df-b8e5b7e2-b66b-4c2c-90c9-5bd3b9d051e0');\n",
              "          const dataTable =\n",
              "            await google.colab.kernel.invokeFunction('convertToInteractive',\n",
              "                                                     [key], {});\n",
              "          if (!dataTable) return;\n",
              "\n",
              "          const docLinkHtml = 'Like what you see? Visit the ' +\n",
              "            '<a target=\"_blank\" href=https://colab.research.google.com/notebooks/data_table.ipynb>data table notebook</a>'\n",
              "            + ' to learn more about interactive tables.';\n",
              "          element.innerHTML = '';\n",
              "          dataTable['output_type'] = 'display_data';\n",
              "          await google.colab.output.renderOutput(dataTable, element);\n",
              "          const docLink = document.createElement('div');\n",
              "          docLink.innerHTML = docLinkHtml;\n",
              "          element.appendChild(docLink);\n",
              "        }\n",
              "      </script>\n",
              "    </div>\n",
              "  </div>\n",
              "  "
            ]
          },
          "metadata": {},
          "execution_count": 65
        }
      ],
      "source": [
        "import pandas as pd\n",
        "import numpy as np\n",
        "\n",
        "moedas = ['USD', 'EUR', 'GBP']\n",
        "\n",
        "usd_data = np.array([1.0, 1.1, 1.26])\n",
        "eur_data = np.array([0.91, 1.0, 1.14])\n",
        "gbp_data = np.array([0.79, 0.87, 1.0])\n",
        "\n",
        "usd = pd.Series(usd_data, index=moedas)\n",
        "eur = pd.Series(eur_data, index=moedas)\n",
        "gbp = pd.Series(gbp_data, index=moedas)\n",
        "\n",
        "dic = {'USD': usd, 'EUR': eur, 'GBP': gbp}\n",
        "\n",
        "taxas = pd.DataFrame(dic)\n",
        "\n",
        "taxas"
      ]
    },
    {
      "cell_type": "markdown",
      "metadata": {
        "id": "Klsfr8h6vb5y"
      },
      "source": [
        "Obtendo dados do Dataframe"
      ]
    },
    {
      "cell_type": "code",
      "execution_count": null,
      "metadata": {
        "id": "zQTmVCy4vb50",
        "colab": {
          "base_uri": "https://localhost:8080/"
        },
        "outputId": "700d77a1-2924-4dc4-adf1-7a22aef249e0"
      },
      "outputs": [
        {
          "output_type": "execute_result",
          "data": {
            "text/plain": [
              "USD    1.00\n",
              "EUR    1.10\n",
              "GBP    1.26\n",
              "Name: USD, dtype: float64"
            ]
          },
          "metadata": {},
          "execution_count": 66
        }
      ],
      "source": [
        "taxas[\"USD\"]"
      ]
    },
    {
      "cell_type": "code",
      "execution_count": null,
      "metadata": {
        "id": "SGnRky1svb52",
        "colab": {
          "base_uri": "https://localhost:8080/"
        },
        "outputId": "8b0a76ea-eab4-4ca8-e483-b05a866d6777"
      },
      "outputs": [
        {
          "output_type": "execute_result",
          "data": {
            "text/plain": [
              "1.26"
            ]
          },
          "metadata": {},
          "execution_count": 69
        }
      ],
      "source": [
        "taxas[\"USD\"][\"GBP\"]"
      ]
    },
    {
      "cell_type": "code",
      "execution_count": null,
      "metadata": {
        "id": "9Zpg_uwCvb53"
      },
      "outputs": [],
      "source": []
    },
    {
      "cell_type": "code",
      "execution_count": null,
      "metadata": {
        "id": "LH8RO7xGvb55"
      },
      "outputs": [],
      "source": []
    },
    {
      "cell_type": "markdown",
      "metadata": {
        "id": "9_gc5obtvb56"
      },
      "source": [
        "Podemos exportar o dataframe"
      ]
    },
    {
      "cell_type": "code",
      "execution_count": null,
      "metadata": {
        "id": "zYpjuBLuvb57"
      },
      "outputs": [],
      "source": [
        "taxas.to_csv(\"taxas.csv\")"
      ]
    },
    {
      "cell_type": "code",
      "execution_count": null,
      "metadata": {
        "id": "8VUeCs3Tvb58"
      },
      "outputs": [],
      "source": []
    },
    {
      "cell_type": "markdown",
      "metadata": {
        "id": "W_vozsravb59"
      },
      "source": [
        "Lendo o dataframe a partir do csv"
      ]
    },
    {
      "cell_type": "code",
      "execution_count": null,
      "metadata": {
        "id": "18wKFWVFvb5-"
      },
      "outputs": [],
      "source": []
    },
    {
      "cell_type": "code",
      "execution_count": null,
      "metadata": {
        "id": "yPXc-RQvvb5_"
      },
      "outputs": [],
      "source": []
    },
    {
      "cell_type": "code",
      "execution_count": null,
      "metadata": {
        "id": "FNeJWONWvb6A"
      },
      "outputs": [],
      "source": []
    },
    {
      "cell_type": "code",
      "execution_count": null,
      "metadata": {
        "id": "nrU7uGP0vb6B"
      },
      "outputs": [],
      "source": []
    },
    {
      "cell_type": "code",
      "execution_count": null,
      "metadata": {
        "id": "v_DPG9Crvb6C"
      },
      "outputs": [],
      "source": []
    },
    {
      "cell_type": "code",
      "execution_count": null,
      "metadata": {
        "id": "QGgY6TaFvb6D"
      },
      "outputs": [],
      "source": []
    },
    {
      "cell_type": "code",
      "execution_count": null,
      "metadata": {
        "id": "kVkrhb5kvb6E"
      },
      "outputs": [],
      "source": []
    },
    {
      "cell_type": "code",
      "execution_count": null,
      "metadata": {
        "id": "GDXk1DdYvb6F"
      },
      "outputs": [],
      "source": []
    },
    {
      "cell_type": "markdown",
      "metadata": {
        "id": "LA4-wRetvb6H"
      },
      "source": [
        "# Exercício com Pandas\n",
        "\n",
        "Crie um dataframe com pelo menos 5 linhas, sendo que cada linha contém informações de alunos da sala, com as seguintes variáveis:\n",
        "- Nome\n",
        "- Sexo\n",
        "- Idade\n",
        "- Bairro\n",
        "\n",
        "Depois, salve o dataframe resultante como um arquivo Excel chamado \"alunos.xlsx\""
      ]
    },
    {
      "cell_type": "code",
      "execution_count": null,
      "metadata": {
        "id": "godXVyBhvb6T"
      },
      "outputs": [],
      "source": []
    },
    {
      "cell_type": "code",
      "source": [],
      "metadata": {
        "id": "AskOQYL36tLg"
      },
      "execution_count": null,
      "outputs": []
    },
    {
      "cell_type": "code",
      "source": [],
      "metadata": {
        "id": "lcyrT8pW6tPL"
      },
      "execution_count": null,
      "outputs": []
    }
  ],
  "metadata": {
    "celltoolbar": "Slideshow",
    "kernelspec": {
      "display_name": "Python 3",
      "language": "python",
      "name": "python3"
    },
    "language_info": {
      "codemirror_mode": {
        "name": "ipython",
        "version": 3
      },
      "file_extension": ".py",
      "mimetype": "text/x-python",
      "name": "python",
      "nbconvert_exporter": "python",
      "pygments_lexer": "ipython3",
      "version": "3.7.3"
    },
    "nteract": {
      "version": "0.27.0"
    },
    "toc": {
      "base_numbering": 1,
      "nav_menu": {},
      "number_sections": true,
      "sideBar": true,
      "skip_h1_title": false,
      "title_cell": "Table of Contents",
      "title_sidebar": "Contents",
      "toc_cell": false,
      "toc_position": {},
      "toc_section_display": true,
      "toc_window_display": false
    },
    "colab": {
      "provenance": []
    }
  },
  "nbformat": 4,
  "nbformat_minor": 0
}